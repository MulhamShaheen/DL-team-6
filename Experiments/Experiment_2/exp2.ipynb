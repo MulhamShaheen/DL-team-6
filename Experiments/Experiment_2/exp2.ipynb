{
  "nbformat": 4,
  "nbformat_minor": 0,
  "metadata": {
    "colab": {
      "provenance": [],
      "gpuType": "T4"
    },
    "kernelspec": {
      "name": "python3",
      "display_name": "Python 3"
    },
    "language_info": {
      "name": "python"
    },
    "accelerator": "GPU"
  },
  "cells": [
    {
      "cell_type": "code",
      "execution_count": null,
      "metadata": {
        "id": "97YL6zvdfecX"
      },
      "outputs": [],
      "source": [
        "!pip install -q clearml ultralytics\n",
        "!pip install -q git+https://github.com/allegroai/clearml\n",
        "!pip install -q clearml-agent"
      ]
    },
    {
      "cell_type": "code",
      "source": [
        "!export MPLBACKEND=TkAg"
      ],
      "metadata": {
        "id": "Nr4mdMzVbIuc"
      },
      "execution_count": 2,
      "outputs": []
    },
    {
      "cell_type": "code",
      "source": [
        "!clearml-init"
      ],
      "metadata": {
        "id": "jiCyT5X5gizI"
      },
      "execution_count": null,
      "outputs": []
    },
    {
      "cell_type": "code",
      "source": [
        "from ultralytics import YOLO\n",
        "from clearml import Dataset, Task"
      ],
      "metadata": {
        "id": "rBZkGcPLglBj"
      },
      "execution_count": 4,
      "outputs": []
    },
    {
      "cell_type": "code",
      "source": [
        "task = Task.init(project_name=\"DL Team 6\", task_name=\"YOLOv8s_training0.4\")"
      ],
      "metadata": {
        "id": "AJ5Tr32cZzvr"
      },
      "execution_count": null,
      "outputs": []
    },
    {
      "cell_type": "code",
      "source": [
        "DATASET_ID = \"0b790414faca49768dca8ef0e99e5e83\"\n",
        "dataset = Dataset.get(dataset_id=DATASET_ID)\n",
        "dataset.get_mutable_local_copy(target_folder='rtsd_detection')\n",
        "\n",
        "dataset"
      ],
      "metadata": {
        "id": "JOFpc16NpPHQ"
      },
      "execution_count": null,
      "outputs": []
    },
    {
      "cell_type": "code",
      "source": [
        "imgsz = 640\n",
        "epochs = 50\n",
        "batch = 50\n",
        "patience = 30\n",
        "close_mosaic = int(epochs / 5)\n",
        "model_variant = \"yolov8s\"\n",
        "\n",
        "task.set_parameter(\"model_variant\", model_variant)\n",
        "args = dict(data='rtsd_detection/data.yaml',\n",
        "            epochs=epochs,\n",
        "            imgsz=imgsz,\n",
        "            batch=batch,\n",
        "            patience=patience,\n",
        "            close_mosaic=close_mosaic)\n",
        "\n",
        "\n",
        "task.connect(args)"
      ],
      "metadata": {
        "id": "5yh0hpJjglDi"
      },
      "execution_count": null,
      "outputs": []
    },
    {
      "cell_type": "code",
      "source": [
        "# Train the model\n",
        "\n",
        "model = YOLO(f'{model_variant}.pt')\n",
        "results = model.train(**args)"
      ],
      "metadata": {
        "id": "IPzzVSrQkni7"
      },
      "execution_count": null,
      "outputs": []
    },
    {
      "cell_type": "code",
      "source": [
        "task.close()"
      ],
      "metadata": {
        "id": "cm2iddxlfGtz"
      },
      "execution_count": 9,
      "outputs": []
    }
  ]
}