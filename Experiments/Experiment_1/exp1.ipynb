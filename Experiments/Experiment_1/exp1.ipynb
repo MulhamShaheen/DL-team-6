{
 "cells": [
  {
   "cell_type": "code",
   "execution_count": null,
   "id": "447187ac",
   "metadata": {},
   "outputs": [],
   "source": [
    "!pip install ultralytics==8.0.20"
   ]
  },
  {
   "cell_type": "code",
   "execution_count": null,
   "id": "6f4c3987",
   "metadata": {},
   "outputs": [],
   "source": [
    "from ultralytics import YOLO\n",
    "from clearml import Task, Dataset"
   ]
  },
  {
   "cell_type": "code",
   "execution_count": null,
   "id": "90046c0d",
   "metadata": {
    "scrolled": true
   },
   "outputs": [],
   "source": [
    "from clearml import Dataset\n",
    "\n",
    "dataset = Dataset.get(dataset_id='0495f48da63445cbabd149519da97135')\n",
    "dataset.get_mutable_local_copy(target_folder='Dataset_for_YOLO')"
   ]
  },
  {
   "cell_type": "code",
   "execution_count": null,
   "id": "87845714",
   "metadata": {},
   "outputs": [],
   "source": [
    "task = Task.init(project_name=\"DL Team 6\", task_name=\"YOLOv8s_training_0.3\")"
   ]
  },
  {
   "cell_type": "code",
   "execution_count": null,
   "id": "a43dfaba",
   "metadata": {},
   "outputs": [],
   "source": [
    "imgsz = 640\n",
    "epochs = 1000\n",
    "batch = 40\n",
    "patience = 300\n",
    "close_mosaic = 0\n",
    "model_variant = \"yolov8s\"\n",
    "\n",
    "task.set_parameter(\"model_variant\", model_variant)\n",
    "args = dict(data='Dataset_for_YOLO/data.yaml',\n",
    "            epochs=epochs,\n",
    "            imgsz=imgsz,\n",
    "            batch=batch,\n",
    "            patience=patience,\n",
    "            close_mosaic=close_mosaic)\n",
    "\n",
    "model = YOLO(f'{model_variant}.pt')\n",
    "task.connect(args)\n",
    "\n",
    "# If running remotely, the arguments may be overridden by ClearML if they were changed in the UI\n",
    "results = model.train(**args)"
   ]
  },
  {
   "cell_type": "code",
   "execution_count": null,
   "id": "19a599cf",
   "metadata": {},
   "outputs": [],
   "source": [
    "task.close()"
   ]
  },
  {
   "cell_type": "code",
   "execution_count": null,
   "id": "f5b39727",
   "metadata": {},
   "outputs": [],
   "source": [
    "df.to_csv (r' C:\\Users\\Bob\\Desktop\\my_data.csv', index= False )"
   ]
  }
 ],
 "metadata": {
  "kernelspec": {
   "display_name": "Python 3 (ipykernel)",
   "language": "python",
   "name": "python3"
  },
  "language_info": {
   "codemirror_mode": {
    "name": "ipython",
    "version": 3
   },
   "file_extension": ".py",
   "mimetype": "text/x-python",
   "name": "python",
   "nbconvert_exporter": "python",
   "pygments_lexer": "ipython3",
   "version": "3.11.5"
  }
 },
 "nbformat": 4,
 "nbformat_minor": 5
}
