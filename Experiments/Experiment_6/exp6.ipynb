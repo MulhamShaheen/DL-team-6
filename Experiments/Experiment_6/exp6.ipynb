{
  "nbformat": 4,
  "nbformat_minor": 0,
  "metadata": {
    "colab": {
      "provenance": [],
      "gpuType": "T4"
    },
    "kernelspec": {
      "name": "python3",
      "display_name": "Python 3"
    },
    "language_info": {
      "name": "python"
    },
    "accelerator": "GPU"
  },
  "cells": [
    {
      "cell_type": "code",
      "execution_count": null,
      "metadata": {
        "id": "97YL6zvdfecX",
        "colab": {
          "base_uri": "https://localhost:8080/"
        },
        "outputId": "1f196afb-0d90-4faa-8957-ad0634adfa27"
      },
      "outputs": [
        {
          "output_type": "stream",
          "name": "stdout",
          "text": [
            "\u001b[2K     \u001b[90m━━━━━━━━━━━━━━━━━━━━━━━━━━━━━━━━━━━━━━━━\u001b[0m \u001b[32m1.1/1.1 MB\u001b[0m \u001b[31m15.4 MB/s\u001b[0m eta \u001b[36m0:00:00\u001b[0m\n",
            "\u001b[2K     \u001b[90m━━━━━━━━━━━━━━━━━━━━━━━━━━━━━━━━━━━━━━━━\u001b[0m \u001b[32m645.9/645.9 kB\u001b[0m \u001b[31m35.8 MB/s\u001b[0m eta \u001b[36m0:00:00\u001b[0m\n",
            "\u001b[?25h  Preparing metadata (setup.py) ... \u001b[?25l\u001b[?25hdone\n",
            "\u001b[2K     \u001b[90m━━━━━━━━━━━━━━━━━━━━━━━━━━━━━━━━━━━━━━━━\u001b[0m \u001b[32m409.1/409.1 kB\u001b[0m \u001b[31m6.3 MB/s\u001b[0m eta \u001b[36m0:00:00\u001b[0m\n",
            "\u001b[2K     \u001b[90m━━━━━━━━━━━━━━━━━━━━━━━━━━━━━━━━━━━━━━━━\u001b[0m \u001b[32m60.0/60.0 kB\u001b[0m \u001b[31m7.7 MB/s\u001b[0m eta \u001b[36m0:00:00\u001b[0m\n",
            "\u001b[2K     \u001b[90m━━━━━━━━━━━━━━━━━━━━━━━━━━━━━━━━━━━━━━━━\u001b[0m \u001b[32m98.3/98.3 kB\u001b[0m \u001b[31m10.3 MB/s\u001b[0m eta \u001b[36m0:00:00\u001b[0m\n",
            "\u001b[2K     \u001b[90m━━━━━━━━━━━━━━━━━━━━━━━━━━━━━━━━━━━━━━━━\u001b[0m \u001b[32m143.8/143.8 kB\u001b[0m \u001b[31m17.4 MB/s\u001b[0m eta \u001b[36m0:00:00\u001b[0m\n",
            "\u001b[2K     \u001b[90m━━━━━━━━━━━━━━━━━━━━━━━━━━━━━━━━━━━━━━━━\u001b[0m \u001b[32m3.8/3.8 MB\u001b[0m \u001b[31m85.1 MB/s\u001b[0m eta \u001b[36m0:00:00\u001b[0m\n",
            "\u001b[2K     \u001b[90m━━━━━━━━━━━━━━━━━━━━━━━━━━━━━━━━━━━━━━━━\u001b[0m \u001b[32m468.9/468.9 kB\u001b[0m \u001b[31m43.9 MB/s\u001b[0m eta \u001b[36m0:00:00\u001b[0m\n",
            "\u001b[?25h\u001b[31mERROR: pip's dependency resolver does not currently take into account all the packages that are installed. This behaviour is the source of the following dependency conflicts.\n",
            "lida 0.0.10 requires fastapi, which is not installed.\n",
            "lida 0.0.10 requires kaleido, which is not installed.\n",
            "lida 0.0.10 requires python-multipart, which is not installed.\n",
            "lida 0.0.10 requires uvicorn, which is not installed.\u001b[0m\u001b[31m\n",
            "\u001b[0m"
          ]
        }
      ],
      "source": [
        "!pip install -q clearml ultralytics\n",
        "!pip install -q git+https://github.com/allegroai/clearml\n",
        "!pip install -q clearml-agent"
      ]
    },
    {
      "cell_type": "code",
      "source": [
        "!export MPLBACKEND=TkAg"
      ],
      "metadata": {
        "id": "Nr4mdMzVbIuc"
      },
      "execution_count": null,
      "outputs": []
    },
    {
      "cell_type": "code",
      "source": [
        "!clearml-init"
      ],
      "metadata": {
        "id": "jiCyT5X5gizI",
        "colab": {
          "base_uri": "https://localhost:8080/"
        },
        "outputId": "8bf93a55-ab6e-4e85-c106-b118d8b97114"
      },
      "execution_count": null,
      "outputs": [
        {
          "output_type": "stream",
          "name": "stdout",
          "text": [
            "ClearML SDK setup process\n",
            "\n",
            "Please create new clearml credentials through the settings page in your `clearml-server` web app (e.g. http://localhost:8080//settings/workspace-configuration) \n",
            "Or create a free account at https://app.clear.ml/settings/workspace-configuration\n",
            "\n",
            "In settings page, press \"Create new credentials\", then press \"Copy to clipboard\".\n",
            "\n",
            "Paste copied configuration here:\n",
            "\"web_server\": \"https://app.clear.ml\",     \"api_server\": \"https://api.clear.ml\",     \"files_server\": \"https://files.clear.ml\",     \"credentials\": {         \"access_key\": \"JL83GPI6OIFVHJJNS6HZ\",         \"secret_key\": \"VRBE6Z9pozL04dU2kBw0PPB4aEuwtL1F6BozpNCX1Jg3WDYLLQ\",     }\n",
            "Detected credentials key=\"JL83GPI6OIFVHJJNS6HZ\" secret=\"VRBE***\"\n",
            "\n",
            "Editing configuration file: /root/clearml.conf\n",
            "Enter the url of the clearml-server's Web service, for example: http://localhost:8080\n",
            "\n",
            "WEB Host configured to: https://app.clear.ml\n",
            "\n",
            "ClearML Hosts configuration:\n",
            "Web App: https://app.clear.ml\n",
            "API: https://api.clear.ml\n",
            "File Store: https://files.clear.ml\n",
            "\n",
            "Verifying credentials ...\n",
            "Credentials verified!\n",
            "\n",
            "New configuration stored in /root/clearml.conf\n",
            "ClearML setup completed successfully.\n"
          ]
        }
      ]
    },
    {
      "cell_type": "code",
      "source": [
        "from ultralytics import YOLO\n",
        "from clearml import Dataset, Task"
      ],
      "metadata": {
        "id": "rBZkGcPLglBj"
      },
      "execution_count": null,
      "outputs": []
    },
    {
      "cell_type": "code",
      "source": [
        "task = Task.init(project_name=\"DL Team 6\", task_name=\"etaychinov_YOLOv8m_training\")"
      ],
      "metadata": {
        "id": "AJ5Tr32cZzvr",
        "colab": {
          "base_uri": "https://localhost:8080/"
        },
        "outputId": "e4d99abb-850c-44c9-db6b-e7736a709e9c"
      },
      "execution_count": null,
      "outputs": [
        {
          "output_type": "stream",
          "name": "stdout",
          "text": [
            "ClearML Task: created new task id=14bd076c91404f75b4baa16ececcd3c6\n",
            "2023-11-27 19:28:13,041 - clearml.Task - INFO - No repository found, storing script code instead\n",
            "ClearML results page: https://app.clear.ml/projects/199d3c5c623744d692293be36e515961/experiments/14bd076c91404f75b4baa16ececcd3c6/output/log\n"
          ]
        }
      ]
    },
    {
      "cell_type": "code",
      "source": [
        "DATASET_ID = \"0b790414faca49768dca8ef0e99e5e83\"\n",
        "dataset = Dataset.get(dataset_id=DATASET_ID)\n",
        "dataset.get_mutable_local_copy(target_folder='rtsd_detection')\n",
        "\n",
        "dataset"
      ],
      "metadata": {
        "id": "JOFpc16NpPHQ",
        "colab": {
          "base_uri": "https://localhost:8080/"
        },
        "outputId": "bc77510d-0544-4009-fac4-b843258762e4"
      },
      "execution_count": null,
      "outputs": [
        {
          "output_type": "stream",
          "name": "stdout",
          "text": [
            "2023-11-27 19:28:38,166 - clearml - INFO - Dataset.get() did not specify alias. Dataset information will not be automatically logged in ClearML Server.\n",
            "2023-11-27 19:28:45,836 - clearml.storage - INFO - Downloading: 6.57MB / 1.06MB @ 2.62MBs from https://files.clear.ml/DL%20Team%206/.datasets/rtsd-detection/rtsd-detection.0b790414faca49768dca8ef0e99e5e83/artifacts/state/state.json\n",
            "2023-11-27 19:28:45,839 - clearml.storage - INFO - Downloaded 6.57 MB successfully from https://files.clear.ml/DL%20Team%206/.datasets/rtsd-detection/rtsd-detection.0b790414faca49768dca8ef0e99e5e83/artifacts/state/state.json , saved to /root/.clearml/cache/storage_manager/datasets/890a64e65bbe160269299e334be594c5.state.json\n",
            "2023-11-27 19:29:00,577 - clearml.storage - INFO - Downloading: 5.00MB / 425.25MB @ 1.73MBs from https://files.clear.ml/DL%20Team%206/.datasets/rtsd-detection/rtsd-detection.0b790414faca49768dca8ef0e99e5e83/artifacts/data/dataset.0b790414faca49768dca8ef0e99e5e83.iwetnhjv.zip\n",
            "2023-11-27 19:29:01,007 - clearml.storage - INFO - Downloading: 10.00MB / 425.25MB @ 11.62MBs from https://files.clear.ml/DL%20Team%206/.datasets/rtsd-detection/rtsd-detection.0b790414faca49768dca8ef0e99e5e83/artifacts/data/dataset.0b790414faca49768dca8ef0e99e5e83.iwetnhjv.zip\n",
            "2023-11-27 19:29:01,439 - clearml.storage - INFO - Downloading: 15.00MB / 425.25MB @ 11.57MBs from https://files.clear.ml/DL%20Team%206/.datasets/rtsd-detection/rtsd-detection.0b790414faca49768dca8ef0e99e5e83/artifacts/data/dataset.0b790414faca49768dca8ef0e99e5e83.iwetnhjv.zip\n",
            "2023-11-27 19:29:01,669 - clearml.storage - INFO - Downloading: 20.00MB / 425.25MB @ 21.74MBs from https://files.clear.ml/DL%20Team%206/.datasets/rtsd-detection/rtsd-detection.0b790414faca49768dca8ef0e99e5e83/artifacts/data/dataset.0b790414faca49768dca8ef0e99e5e83.iwetnhjv.zip\n",
            "2023-11-27 19:29:02,100 - clearml.storage - INFO - Downloading: 25.00MB / 425.25MB @ 11.61MBs from https://files.clear.ml/DL%20Team%206/.datasets/rtsd-detection/rtsd-detection.0b790414faca49768dca8ef0e99e5e83/artifacts/data/dataset.0b790414faca49768dca8ef0e99e5e83.iwetnhjv.zip\n",
            "2023-11-27 19:29:02,528 - clearml.storage - INFO - Downloading: 30.00MB / 425.25MB @ 11.67MBs from https://files.clear.ml/DL%20Team%206/.datasets/rtsd-detection/rtsd-detection.0b790414faca49768dca8ef0e99e5e83/artifacts/data/dataset.0b790414faca49768dca8ef0e99e5e83.iwetnhjv.zip\n",
            "2023-11-27 19:29:02,957 - clearml.storage - INFO - Downloading: 35.00MB / 425.25MB @ 11.65MBs from https://files.clear.ml/DL%20Team%206/.datasets/rtsd-detection/rtsd-detection.0b790414faca49768dca8ef0e99e5e83/artifacts/data/dataset.0b790414faca49768dca8ef0e99e5e83.iwetnhjv.zip\n",
            "2023-11-27 19:29:03,186 - clearml.storage - INFO - Downloading: 40.00MB / 425.25MB @ 21.84MBs from https://files.clear.ml/DL%20Team%206/.datasets/rtsd-detection/rtsd-detection.0b790414faca49768dca8ef0e99e5e83/artifacts/data/dataset.0b790414faca49768dca8ef0e99e5e83.iwetnhjv.zip\n",
            "2023-11-27 19:29:03,618 - clearml.storage - INFO - Downloading: 45.00MB / 425.25MB @ 11.57MBs from https://files.clear.ml/DL%20Team%206/.datasets/rtsd-detection/rtsd-detection.0b790414faca49768dca8ef0e99e5e83/artifacts/data/dataset.0b790414faca49768dca8ef0e99e5e83.iwetnhjv.zip\n",
            "2023-11-27 19:29:04,047 - clearml.storage - INFO - Downloading: 50.00MB / 425.25MB @ 11.65MBs from https://files.clear.ml/DL%20Team%206/.datasets/rtsd-detection/rtsd-detection.0b790414faca49768dca8ef0e99e5e83/artifacts/data/dataset.0b790414faca49768dca8ef0e99e5e83.iwetnhjv.zip\n",
            "2023-11-27 19:29:04,474 - clearml.storage - INFO - Downloading: 55.00MB / 425.25MB @ 11.70MBs from https://files.clear.ml/DL%20Team%206/.datasets/rtsd-detection/rtsd-detection.0b790414faca49768dca8ef0e99e5e83/artifacts/data/dataset.0b790414faca49768dca8ef0e99e5e83.iwetnhjv.zip\n",
            "2023-11-27 19:29:04,889 - clearml.storage - INFO - Downloading: 60.00MB / 425.25MB @ 12.06MBs from https://files.clear.ml/DL%20Team%206/.datasets/rtsd-detection/rtsd-detection.0b790414faca49768dca8ef0e99e5e83/artifacts/data/dataset.0b790414faca49768dca8ef0e99e5e83.iwetnhjv.zip\n",
            "2023-11-27 19:29:05,136 - clearml.storage - INFO - Downloading: 65.00MB / 425.25MB @ 20.21MBs from https://files.clear.ml/DL%20Team%206/.datasets/rtsd-detection/rtsd-detection.0b790414faca49768dca8ef0e99e5e83/artifacts/data/dataset.0b790414faca49768dca8ef0e99e5e83.iwetnhjv.zip\n",
            "2023-11-27 19:29:05,565 - clearml.storage - INFO - Downloading: 70.00MB / 425.25MB @ 11.67MBs from https://files.clear.ml/DL%20Team%206/.datasets/rtsd-detection/rtsd-detection.0b790414faca49768dca8ef0e99e5e83/artifacts/data/dataset.0b790414faca49768dca8ef0e99e5e83.iwetnhjv.zip\n",
            "2023-11-27 19:29:05,982 - clearml.storage - INFO - Downloading: 75.00MB / 425.25MB @ 12.00MBs from https://files.clear.ml/DL%20Team%206/.datasets/rtsd-detection/rtsd-detection.0b790414faca49768dca8ef0e99e5e83/artifacts/data/dataset.0b790414faca49768dca8ef0e99e5e83.iwetnhjv.zip\n",
            "2023-11-27 19:29:06,406 - clearml.storage - INFO - Downloading: 80.00MB / 425.25MB @ 11.77MBs from https://files.clear.ml/DL%20Team%206/.datasets/rtsd-detection/rtsd-detection.0b790414faca49768dca8ef0e99e5e83/artifacts/data/dataset.0b790414faca49768dca8ef0e99e5e83.iwetnhjv.zip\n",
            "2023-11-27 19:29:06,654 - clearml.storage - INFO - Downloading: 85.00MB / 425.25MB @ 20.16MBs from https://files.clear.ml/DL%20Team%206/.datasets/rtsd-detection/rtsd-detection.0b790414faca49768dca8ef0e99e5e83/artifacts/data/dataset.0b790414faca49768dca8ef0e99e5e83.iwetnhjv.zip\n",
            "2023-11-27 19:29:07,082 - clearml.storage - INFO - Downloading: 90.00MB / 425.25MB @ 11.69MBs from https://files.clear.ml/DL%20Team%206/.datasets/rtsd-detection/rtsd-detection.0b790414faca49768dca8ef0e99e5e83/artifacts/data/dataset.0b790414faca49768dca8ef0e99e5e83.iwetnhjv.zip\n",
            "2023-11-27 19:29:07,501 - clearml.storage - INFO - Downloading: 95.00MB / 425.25MB @ 11.95MBs from https://files.clear.ml/DL%20Team%206/.datasets/rtsd-detection/rtsd-detection.0b790414faca49768dca8ef0e99e5e83/artifacts/data/dataset.0b790414faca49768dca8ef0e99e5e83.iwetnhjv.zip\n",
            "2023-11-27 19:29:07,927 - clearml.storage - INFO - Downloading: 100.00MB / 425.25MB @ 11.73MBs from https://files.clear.ml/DL%20Team%206/.datasets/rtsd-detection/rtsd-detection.0b790414faca49768dca8ef0e99e5e83/artifacts/data/dataset.0b790414faca49768dca8ef0e99e5e83.iwetnhjv.zip\n",
            "2023-11-27 19:29:08,340 - clearml.storage - INFO - Downloading: 105.00MB / 425.25MB @ 12.12MBs from https://files.clear.ml/DL%20Team%206/.datasets/rtsd-detection/rtsd-detection.0b790414faca49768dca8ef0e99e5e83/artifacts/data/dataset.0b790414faca49768dca8ef0e99e5e83.iwetnhjv.zip\n",
            "2023-11-27 19:29:08,600 - clearml.storage - INFO - Downloading: 110.00MB / 425.25MB @ 19.20MBs from https://files.clear.ml/DL%20Team%206/.datasets/rtsd-detection/rtsd-detection.0b790414faca49768dca8ef0e99e5e83/artifacts/data/dataset.0b790414faca49768dca8ef0e99e5e83.iwetnhjv.zip\n",
            "2023-11-27 19:29:09,020 - clearml.storage - INFO - Downloading: 115.00MB / 425.25MB @ 11.92MBs from https://files.clear.ml/DL%20Team%206/.datasets/rtsd-detection/rtsd-detection.0b790414faca49768dca8ef0e99e5e83/artifacts/data/dataset.0b790414faca49768dca8ef0e99e5e83.iwetnhjv.zip\n",
            "2023-11-27 19:29:09,436 - clearml.storage - INFO - Downloading: 120.00MB / 425.25MB @ 12.02MBs from https://files.clear.ml/DL%20Team%206/.datasets/rtsd-detection/rtsd-detection.0b790414faca49768dca8ef0e99e5e83/artifacts/data/dataset.0b790414faca49768dca8ef0e99e5e83.iwetnhjv.zip\n",
            "2023-11-27 19:29:09,883 - clearml.storage - INFO - Downloading: 125.00MB / 425.25MB @ 11.19MBs from https://files.clear.ml/DL%20Team%206/.datasets/rtsd-detection/rtsd-detection.0b790414faca49768dca8ef0e99e5e83/artifacts/data/dataset.0b790414faca49768dca8ef0e99e5e83.iwetnhjv.zip\n",
            "2023-11-27 19:29:10,287 - clearml.storage - INFO - Downloading: 130.00MB / 425.25MB @ 12.37MBs from https://files.clear.ml/DL%20Team%206/.datasets/rtsd-detection/rtsd-detection.0b790414faca49768dca8ef0e99e5e83/artifacts/data/dataset.0b790414faca49768dca8ef0e99e5e83.iwetnhjv.zip\n",
            "2023-11-27 19:29:10,737 - clearml.storage - INFO - Downloading: 135.00MB / 425.25MB @ 11.11MBs from https://files.clear.ml/DL%20Team%206/.datasets/rtsd-detection/rtsd-detection.0b790414faca49768dca8ef0e99e5e83/artifacts/data/dataset.0b790414faca49768dca8ef0e99e5e83.iwetnhjv.zip\n",
            "2023-11-27 19:29:10,995 - clearml.storage - INFO - Downloading: 140.00MB / 425.25MB @ 19.37MBs from https://files.clear.ml/DL%20Team%206/.datasets/rtsd-detection/rtsd-detection.0b790414faca49768dca8ef0e99e5e83/artifacts/data/dataset.0b790414faca49768dca8ef0e99e5e83.iwetnhjv.zip\n",
            "2023-11-27 19:29:11,427 - clearml.storage - INFO - Downloading: 145.00MB / 425.25MB @ 11.59MBs from https://files.clear.ml/DL%20Team%206/.datasets/rtsd-detection/rtsd-detection.0b790414faca49768dca8ef0e99e5e83/artifacts/data/dataset.0b790414faca49768dca8ef0e99e5e83.iwetnhjv.zip\n",
            "2023-11-27 19:29:11,843 - clearml.storage - INFO - Downloading: 150.00MB / 425.25MB @ 12.02MBs from https://files.clear.ml/DL%20Team%206/.datasets/rtsd-detection/rtsd-detection.0b790414faca49768dca8ef0e99e5e83/artifacts/data/dataset.0b790414faca49768dca8ef0e99e5e83.iwetnhjv.zip\n",
            "2023-11-27 19:29:12,265 - clearml.storage - INFO - Downloading: 155.00MB / 425.25MB @ 11.83MBs from https://files.clear.ml/DL%20Team%206/.datasets/rtsd-detection/rtsd-detection.0b790414faca49768dca8ef0e99e5e83/artifacts/data/dataset.0b790414faca49768dca8ef0e99e5e83.iwetnhjv.zip\n",
            "2023-11-27 19:29:12,659 - clearml.storage - INFO - Downloading: 160.00MB / 425.25MB @ 12.70MBs from https://files.clear.ml/DL%20Team%206/.datasets/rtsd-detection/rtsd-detection.0b790414faca49768dca8ef0e99e5e83/artifacts/data/dataset.0b790414faca49768dca8ef0e99e5e83.iwetnhjv.zip\n",
            "2023-11-27 19:29:12,949 - clearml.storage - INFO - Downloading: 165.00MB / 425.25MB @ 17.22MBs from https://files.clear.ml/DL%20Team%206/.datasets/rtsd-detection/rtsd-detection.0b790414faca49768dca8ef0e99e5e83/artifacts/data/dataset.0b790414faca49768dca8ef0e99e5e83.iwetnhjv.zip\n",
            "2023-11-27 19:29:13,361 - clearml.storage - INFO - Downloading: 170.00MB / 425.25MB @ 12.13MBs from https://files.clear.ml/DL%20Team%206/.datasets/rtsd-detection/rtsd-detection.0b790414faca49768dca8ef0e99e5e83/artifacts/data/dataset.0b790414faca49768dca8ef0e99e5e83.iwetnhjv.zip\n",
            "2023-11-27 19:29:13,773 - clearml.storage - INFO - Downloading: 175.00MB / 425.25MB @ 12.16MBs from https://files.clear.ml/DL%20Team%206/.datasets/rtsd-detection/rtsd-detection.0b790414faca49768dca8ef0e99e5e83/artifacts/data/dataset.0b790414faca49768dca8ef0e99e5e83.iwetnhjv.zip\n",
            "2023-11-27 19:29:14,176 - clearml.storage - INFO - Downloading: 180.00MB / 425.25MB @ 12.38MBs from https://files.clear.ml/DL%20Team%206/.datasets/rtsd-detection/rtsd-detection.0b790414faca49768dca8ef0e99e5e83/artifacts/data/dataset.0b790414faca49768dca8ef0e99e5e83.iwetnhjv.zip\n",
            "2023-11-27 19:29:14,467 - clearml.storage - INFO - Downloading: 185.00MB / 425.25MB @ 17.24MBs from https://files.clear.ml/DL%20Team%206/.datasets/rtsd-detection/rtsd-detection.0b790414faca49768dca8ef0e99e5e83/artifacts/data/dataset.0b790414faca49768dca8ef0e99e5e83.iwetnhjv.zip\n",
            "2023-11-27 19:29:14,882 - clearml.storage - INFO - Downloading: 190.00MB / 425.25MB @ 12.04MBs from https://files.clear.ml/DL%20Team%206/.datasets/rtsd-detection/rtsd-detection.0b790414faca49768dca8ef0e99e5e83/artifacts/data/dataset.0b790414faca49768dca8ef0e99e5e83.iwetnhjv.zip\n",
            "2023-11-27 19:29:15,285 - clearml.storage - INFO - Downloading: 195.00MB / 425.25MB @ 12.41MBs from https://files.clear.ml/DL%20Team%206/.datasets/rtsd-detection/rtsd-detection.0b790414faca49768dca8ef0e99e5e83/artifacts/data/dataset.0b790414faca49768dca8ef0e99e5e83.iwetnhjv.zip\n",
            "2023-11-27 19:29:15,693 - clearml.storage - INFO - Downloading: 200.00MB / 425.25MB @ 12.24MBs from https://files.clear.ml/DL%20Team%206/.datasets/rtsd-detection/rtsd-detection.0b790414faca49768dca8ef0e99e5e83/artifacts/data/dataset.0b790414faca49768dca8ef0e99e5e83.iwetnhjv.zip\n",
            "2023-11-27 19:29:16,017 - clearml.storage - INFO - Downloading: 205.00MB / 425.25MB @ 15.42MBs from https://files.clear.ml/DL%20Team%206/.datasets/rtsd-detection/rtsd-detection.0b790414faca49768dca8ef0e99e5e83/artifacts/data/dataset.0b790414faca49768dca8ef0e99e5e83.iwetnhjv.zip\n",
            "2023-11-27 19:29:16,399 - clearml.storage - INFO - Downloading: 210.00MB / 425.25MB @ 13.11MBs from https://files.clear.ml/DL%20Team%206/.datasets/rtsd-detection/rtsd-detection.0b790414faca49768dca8ef0e99e5e83/artifacts/data/dataset.0b790414faca49768dca8ef0e99e5e83.iwetnhjv.zip\n",
            "2023-11-27 19:29:16,796 - clearml.storage - INFO - Downloading: 215.00MB / 425.25MB @ 12.60MBs from https://files.clear.ml/DL%20Team%206/.datasets/rtsd-detection/rtsd-detection.0b790414faca49768dca8ef0e99e5e83/artifacts/data/dataset.0b790414faca49768dca8ef0e99e5e83.iwetnhjv.zip\n",
            "2023-11-27 19:29:17,203 - clearml.storage - INFO - Downloading: 220.00MB / 425.25MB @ 12.28MBs from https://files.clear.ml/DL%20Team%206/.datasets/rtsd-detection/rtsd-detection.0b790414faca49768dca8ef0e99e5e83/artifacts/data/dataset.0b790414faca49768dca8ef0e99e5e83.iwetnhjv.zip\n",
            "2023-11-27 19:29:17,528 - clearml.storage - INFO - Downloading: 225.00MB / 425.25MB @ 15.36MBs from https://files.clear.ml/DL%20Team%206/.datasets/rtsd-detection/rtsd-detection.0b790414faca49768dca8ef0e99e5e83/artifacts/data/dataset.0b790414faca49768dca8ef0e99e5e83.iwetnhjv.zip\n",
            "2023-11-27 19:29:17,920 - clearml.storage - INFO - Downloading: 230.00MB / 425.25MB @ 12.76MBs from https://files.clear.ml/DL%20Team%206/.datasets/rtsd-detection/rtsd-detection.0b790414faca49768dca8ef0e99e5e83/artifacts/data/dataset.0b790414faca49768dca8ef0e99e5e83.iwetnhjv.zip\n",
            "2023-11-27 19:29:18,308 - clearml.storage - INFO - Downloading: 235.00MB / 425.25MB @ 12.90MBs from https://files.clear.ml/DL%20Team%206/.datasets/rtsd-detection/rtsd-detection.0b790414faca49768dca8ef0e99e5e83/artifacts/data/dataset.0b790414faca49768dca8ef0e99e5e83.iwetnhjv.zip\n",
            "2023-11-27 19:29:18,720 - clearml.storage - INFO - Downloading: 240.00MB / 425.25MB @ 12.14MBs from https://files.clear.ml/DL%20Team%206/.datasets/rtsd-detection/rtsd-detection.0b790414faca49768dca8ef0e99e5e83/artifacts/data/dataset.0b790414faca49768dca8ef0e99e5e83.iwetnhjv.zip\n",
            "2023-11-27 19:29:19,128 - clearml.storage - INFO - Downloading: 245.00MB / 425.25MB @ 12.25MBs from https://files.clear.ml/DL%20Team%206/.datasets/rtsd-detection/rtsd-detection.0b790414faca49768dca8ef0e99e5e83/artifacts/data/dataset.0b790414faca49768dca8ef0e99e5e83.iwetnhjv.zip\n",
            "2023-11-27 19:29:19,434 - clearml.storage - INFO - Downloading: 250.00MB / 425.25MB @ 16.31MBs from https://files.clear.ml/DL%20Team%206/.datasets/rtsd-detection/rtsd-detection.0b790414faca49768dca8ef0e99e5e83/artifacts/data/dataset.0b790414faca49768dca8ef0e99e5e83.iwetnhjv.zip\n",
            "2023-11-27 19:29:19,818 - clearml.storage - INFO - Downloading: 255.00MB / 425.25MB @ 13.03MBs from https://files.clear.ml/DL%20Team%206/.datasets/rtsd-detection/rtsd-detection.0b790414faca49768dca8ef0e99e5e83/artifacts/data/dataset.0b790414faca49768dca8ef0e99e5e83.iwetnhjv.zip\n",
            "2023-11-27 19:29:20,230 - clearml.storage - INFO - Downloading: 260.00MB / 425.25MB @ 12.16MBs from https://files.clear.ml/DL%20Team%206/.datasets/rtsd-detection/rtsd-detection.0b790414faca49768dca8ef0e99e5e83/artifacts/data/dataset.0b790414faca49768dca8ef0e99e5e83.iwetnhjv.zip\n",
            "2023-11-27 19:29:20,646 - clearml.storage - INFO - Downloading: 265.00MB / 425.25MB @ 12.00MBs from https://files.clear.ml/DL%20Team%206/.datasets/rtsd-detection/rtsd-detection.0b790414faca49768dca8ef0e99e5e83/artifacts/data/dataset.0b790414faca49768dca8ef0e99e5e83.iwetnhjv.zip\n",
            "2023-11-27 19:29:20,939 - clearml.storage - INFO - Downloading: 270.00MB / 425.25MB @ 17.08MBs from https://files.clear.ml/DL%20Team%206/.datasets/rtsd-detection/rtsd-detection.0b790414faca49768dca8ef0e99e5e83/artifacts/data/dataset.0b790414faca49768dca8ef0e99e5e83.iwetnhjv.zip\n",
            "2023-11-27 19:29:21,328 - clearml.storage - INFO - Downloading: 275.00MB / 425.25MB @ 12.86MBs from https://files.clear.ml/DL%20Team%206/.datasets/rtsd-detection/rtsd-detection.0b790414faca49768dca8ef0e99e5e83/artifacts/data/dataset.0b790414faca49768dca8ef0e99e5e83.iwetnhjv.zip\n",
            "2023-11-27 19:29:21,745 - clearml.storage - INFO - Downloading: 280.00MB / 425.25MB @ 11.97MBs from https://files.clear.ml/DL%20Team%206/.datasets/rtsd-detection/rtsd-detection.0b790414faca49768dca8ef0e99e5e83/artifacts/data/dataset.0b790414faca49768dca8ef0e99e5e83.iwetnhjv.zip\n",
            "2023-11-27 19:29:22,159 - clearml.storage - INFO - Downloading: 285.00MB / 425.25MB @ 12.09MBs from https://files.clear.ml/DL%20Team%206/.datasets/rtsd-detection/rtsd-detection.0b790414faca49768dca8ef0e99e5e83/artifacts/data/dataset.0b790414faca49768dca8ef0e99e5e83.iwetnhjv.zip\n",
            "2023-11-27 19:29:22,463 - clearml.storage - INFO - Downloading: 290.00MB / 425.25MB @ 16.47MBs from https://files.clear.ml/DL%20Team%206/.datasets/rtsd-detection/rtsd-detection.0b790414faca49768dca8ef0e99e5e83/artifacts/data/dataset.0b790414faca49768dca8ef0e99e5e83.iwetnhjv.zip\n",
            "2023-11-27 19:29:22,838 - clearml.storage - INFO - Downloading: 295.00MB / 425.25MB @ 13.34MBs from https://files.clear.ml/DL%20Team%206/.datasets/rtsd-detection/rtsd-detection.0b790414faca49768dca8ef0e99e5e83/artifacts/data/dataset.0b790414faca49768dca8ef0e99e5e83.iwetnhjv.zip\n",
            "2023-11-27 19:29:23,255 - clearml.storage - INFO - Downloading: 300.00MB / 425.25MB @ 11.98MBs from https://files.clear.ml/DL%20Team%206/.datasets/rtsd-detection/rtsd-detection.0b790414faca49768dca8ef0e99e5e83/artifacts/data/dataset.0b790414faca49768dca8ef0e99e5e83.iwetnhjv.zip\n",
            "2023-11-27 19:29:23,678 - clearml.storage - INFO - Downloading: 305.00MB / 425.25MB @ 11.82MBs from https://files.clear.ml/DL%20Team%206/.datasets/rtsd-detection/rtsd-detection.0b790414faca49768dca8ef0e99e5e83/artifacts/data/dataset.0b790414faca49768dca8ef0e99e5e83.iwetnhjv.zip\n",
            "2023-11-27 19:29:23,973 - clearml.storage - INFO - Downloading: 310.00MB / 425.25MB @ 16.96MBs from https://files.clear.ml/DL%20Team%206/.datasets/rtsd-detection/rtsd-detection.0b790414faca49768dca8ef0e99e5e83/artifacts/data/dataset.0b790414faca49768dca8ef0e99e5e83.iwetnhjv.zip\n",
            "2023-11-27 19:29:24,356 - clearml.storage - INFO - Downloading: 315.00MB / 425.25MB @ 13.04MBs from https://files.clear.ml/DL%20Team%206/.datasets/rtsd-detection/rtsd-detection.0b790414faca49768dca8ef0e99e5e83/artifacts/data/dataset.0b790414faca49768dca8ef0e99e5e83.iwetnhjv.zip\n",
            "2023-11-27 19:29:24,776 - clearml.storage - INFO - Downloading: 320.00MB / 425.25MB @ 11.90MBs from https://files.clear.ml/DL%20Team%206/.datasets/rtsd-detection/rtsd-detection.0b790414faca49768dca8ef0e99e5e83/artifacts/data/dataset.0b790414faca49768dca8ef0e99e5e83.iwetnhjv.zip\n",
            "2023-11-27 19:29:25,199 - clearml.storage - INFO - Downloading: 325.00MB / 425.25MB @ 11.83MBs from https://files.clear.ml/DL%20Team%206/.datasets/rtsd-detection/rtsd-detection.0b790414faca49768dca8ef0e99e5e83/artifacts/data/dataset.0b790414faca49768dca8ef0e99e5e83.iwetnhjv.zip\n",
            "2023-11-27 19:29:25,487 - clearml.storage - INFO - Downloading: 330.00MB / 425.25MB @ 17.37MBs from https://files.clear.ml/DL%20Team%206/.datasets/rtsd-detection/rtsd-detection.0b790414faca49768dca8ef0e99e5e83/artifacts/data/dataset.0b790414faca49768dca8ef0e99e5e83.iwetnhjv.zip\n",
            "2023-11-27 19:29:25,869 - clearml.storage - INFO - Downloading: 335.00MB / 425.25MB @ 13.09MBs from https://files.clear.ml/DL%20Team%206/.datasets/rtsd-detection/rtsd-detection.0b790414faca49768dca8ef0e99e5e83/artifacts/data/dataset.0b790414faca49768dca8ef0e99e5e83.iwetnhjv.zip\n",
            "2023-11-27 19:29:26,299 - clearml.storage - INFO - Downloading: 340.00MB / 425.25MB @ 11.63MBs from https://files.clear.ml/DL%20Team%206/.datasets/rtsd-detection/rtsd-detection.0b790414faca49768dca8ef0e99e5e83/artifacts/data/dataset.0b790414faca49768dca8ef0e99e5e83.iwetnhjv.zip\n",
            "2023-11-27 19:29:26,709 - clearml.storage - INFO - Downloading: 345.00MB / 425.25MB @ 12.18MBs from https://files.clear.ml/DL%20Team%206/.datasets/rtsd-detection/rtsd-detection.0b790414faca49768dca8ef0e99e5e83/artifacts/data/dataset.0b790414faca49768dca8ef0e99e5e83.iwetnhjv.zip\n",
            "2023-11-27 19:29:27,014 - clearml.storage - INFO - Downloading: 350.00MB / 425.25MB @ 16.40MBs from https://files.clear.ml/DL%20Team%206/.datasets/rtsd-detection/rtsd-detection.0b790414faca49768dca8ef0e99e5e83/artifacts/data/dataset.0b790414faca49768dca8ef0e99e5e83.iwetnhjv.zip\n",
            "2023-11-27 19:29:27,411 - clearml.storage - INFO - Downloading: 355.00MB / 425.25MB @ 12.60MBs from https://files.clear.ml/DL%20Team%206/.datasets/rtsd-detection/rtsd-detection.0b790414faca49768dca8ef0e99e5e83/artifacts/data/dataset.0b790414faca49768dca8ef0e99e5e83.iwetnhjv.zip\n",
            "2023-11-27 19:29:27,845 - clearml.storage - INFO - Downloading: 360.00MB / 425.25MB @ 11.52MBs from https://files.clear.ml/DL%20Team%206/.datasets/rtsd-detection/rtsd-detection.0b790414faca49768dca8ef0e99e5e83/artifacts/data/dataset.0b790414faca49768dca8ef0e99e5e83.iwetnhjv.zip\n",
            "2023-11-27 19:29:28,269 - clearml.storage - INFO - Downloading: 365.00MB / 425.25MB @ 11.79MBs from https://files.clear.ml/DL%20Team%206/.datasets/rtsd-detection/rtsd-detection.0b790414faca49768dca8ef0e99e5e83/artifacts/data/dataset.0b790414faca49768dca8ef0e99e5e83.iwetnhjv.zip\n",
            "2023-11-27 19:29:28,573 - clearml.storage - INFO - Downloading: 370.00MB / 425.25MB @ 16.45MBs from https://files.clear.ml/DL%20Team%206/.datasets/rtsd-detection/rtsd-detection.0b790414faca49768dca8ef0e99e5e83/artifacts/data/dataset.0b790414faca49768dca8ef0e99e5e83.iwetnhjv.zip\n",
            "2023-11-27 19:29:28,992 - clearml.storage - INFO - Downloading: 375.00MB / 425.25MB @ 11.95MBs from https://files.clear.ml/DL%20Team%206/.datasets/rtsd-detection/rtsd-detection.0b790414faca49768dca8ef0e99e5e83/artifacts/data/dataset.0b790414faca49768dca8ef0e99e5e83.iwetnhjv.zip\n",
            "2023-11-27 19:29:29,424 - clearml.storage - INFO - Downloading: 380.00MB / 425.25MB @ 11.57MBs from https://files.clear.ml/DL%20Team%206/.datasets/rtsd-detection/rtsd-detection.0b790414faca49768dca8ef0e99e5e83/artifacts/data/dataset.0b790414faca49768dca8ef0e99e5e83.iwetnhjv.zip\n",
            "2023-11-27 19:29:29,841 - clearml.storage - INFO - Downloading: 385.00MB / 425.25MB @ 12.00MBs from https://files.clear.ml/DL%20Team%206/.datasets/rtsd-detection/rtsd-detection.0b790414faca49768dca8ef0e99e5e83/artifacts/data/dataset.0b790414faca49768dca8ef0e99e5e83.iwetnhjv.zip\n",
            "2023-11-27 19:29:30,129 - clearml.storage - INFO - Downloading: 390.00MB / 425.25MB @ 17.36MBs from https://files.clear.ml/DL%20Team%206/.datasets/rtsd-detection/rtsd-detection.0b790414faca49768dca8ef0e99e5e83/artifacts/data/dataset.0b790414faca49768dca8ef0e99e5e83.iwetnhjv.zip\n",
            "2023-11-27 19:29:30,572 - clearml.storage - INFO - Downloading: 395.00MB / 425.25MB @ 11.29MBs from https://files.clear.ml/DL%20Team%206/.datasets/rtsd-detection/rtsd-detection.0b790414faca49768dca8ef0e99e5e83/artifacts/data/dataset.0b790414faca49768dca8ef0e99e5e83.iwetnhjv.zip\n",
            "2023-11-27 19:29:30,999 - clearml.storage - INFO - Downloading: 400.00MB / 425.25MB @ 11.71MBs from https://files.clear.ml/DL%20Team%206/.datasets/rtsd-detection/rtsd-detection.0b790414faca49768dca8ef0e99e5e83/artifacts/data/dataset.0b790414faca49768dca8ef0e99e5e83.iwetnhjv.zip\n",
            "2023-11-27 19:29:31,414 - clearml.storage - INFO - Downloading: 405.00MB / 425.25MB @ 12.02MBs from https://files.clear.ml/DL%20Team%206/.datasets/rtsd-detection/rtsd-detection.0b790414faca49768dca8ef0e99e5e83/artifacts/data/dataset.0b790414faca49768dca8ef0e99e5e83.iwetnhjv.zip\n",
            "2023-11-27 19:29:31,724 - clearml.storage - INFO - Downloading: 410.00MB / 425.25MB @ 16.17MBs from https://files.clear.ml/DL%20Team%206/.datasets/rtsd-detection/rtsd-detection.0b790414faca49768dca8ef0e99e5e83/artifacts/data/dataset.0b790414faca49768dca8ef0e99e5e83.iwetnhjv.zip\n",
            "2023-11-27 19:29:32,145 - clearml.storage - INFO - Downloading: 415.00MB / 425.25MB @ 11.86MBs from https://files.clear.ml/DL%20Team%206/.datasets/rtsd-detection/rtsd-detection.0b790414faca49768dca8ef0e99e5e83/artifacts/data/dataset.0b790414faca49768dca8ef0e99e5e83.iwetnhjv.zip\n",
            "2023-11-27 19:29:32,583 - clearml.storage - INFO - Downloading: 420.00MB / 425.25MB @ 11.43MBs from https://files.clear.ml/DL%20Team%206/.datasets/rtsd-detection/rtsd-detection.0b790414faca49768dca8ef0e99e5e83/artifacts/data/dataset.0b790414faca49768dca8ef0e99e5e83.iwetnhjv.zip\n",
            "2023-11-27 19:29:32,986 - clearml.storage - INFO - Downloading: 425.00MB / 425.25MB @ 12.39MBs from https://files.clear.ml/DL%20Team%206/.datasets/rtsd-detection/rtsd-detection.0b790414faca49768dca8ef0e99e5e83/artifacts/data/dataset.0b790414faca49768dca8ef0e99e5e83.iwetnhjv.zip\n",
            "2023-11-27 19:29:33,004 - clearml.storage - INFO - Downloaded 425.25 MB successfully from https://files.clear.ml/DL%20Team%206/.datasets/rtsd-detection/rtsd-detection.0b790414faca49768dca8ef0e99e5e83/artifacts/data/dataset.0b790414faca49768dca8ef0e99e5e83.iwetnhjv.zip , saved to /root/.clearml/cache/storage_manager/datasets/91fd5849faae03e434bef154fb6012b7.dataset.0b790414faca49768dca8ef0e99e5e83.iwetnhjv.zip\n",
            "2023-11-27 19:29:36,307 - clearml.storage - INFO - Downloading: 5.00MB / 428.05MB @ 1.66MBs from https://files.clear.ml/DL%20Team%206/.datasets/rtsd-detection/rtsd-detection.0b790414faca49768dca8ef0e99e5e83/artifacts/data_001/dataset.0b790414faca49768dca8ef0e99e5e83.e1gdub2c.zip\n",
            "2023-11-27 19:29:36,738 - clearml.storage - INFO - Downloading: 10.00MB / 428.05MB @ 11.59MBs from https://files.clear.ml/DL%20Team%206/.datasets/rtsd-detection/rtsd-detection.0b790414faca49768dca8ef0e99e5e83/artifacts/data_001/dataset.0b790414faca49768dca8ef0e99e5e83.e1gdub2c.zip\n",
            "2023-11-27 19:29:37,168 - clearml.storage - INFO - Downloading: 15.00MB / 428.05MB @ 11.62MBs from https://files.clear.ml/DL%20Team%206/.datasets/rtsd-detection/rtsd-detection.0b790414faca49768dca8ef0e99e5e83/artifacts/data_001/dataset.0b790414faca49768dca8ef0e99e5e83.e1gdub2c.zip\n",
            "2023-11-27 19:29:37,396 - clearml.storage - INFO - Downloading: 20.00MB / 428.05MB @ 21.91MBs from https://files.clear.ml/DL%20Team%206/.datasets/rtsd-detection/rtsd-detection.0b790414faca49768dca8ef0e99e5e83/artifacts/data_001/dataset.0b790414faca49768dca8ef0e99e5e83.e1gdub2c.zip\n",
            "2023-11-27 19:29:37,830 - clearml.storage - INFO - Downloading: 25.00MB / 428.05MB @ 11.54MBs from https://files.clear.ml/DL%20Team%206/.datasets/rtsd-detection/rtsd-detection.0b790414faca49768dca8ef0e99e5e83/artifacts/data_001/dataset.0b790414faca49768dca8ef0e99e5e83.e1gdub2c.zip\n",
            "2023-11-27 19:29:38,261 - clearml.storage - INFO - Downloading: 30.00MB / 428.05MB @ 11.59MBs from https://files.clear.ml/DL%20Team%206/.datasets/rtsd-detection/rtsd-detection.0b790414faca49768dca8ef0e99e5e83/artifacts/data_001/dataset.0b790414faca49768dca8ef0e99e5e83.e1gdub2c.zip\n",
            "2023-11-27 19:29:38,681 - clearml.storage - INFO - Downloading: 35.00MB / 428.05MB @ 11.92MBs from https://files.clear.ml/DL%20Team%206/.datasets/rtsd-detection/rtsd-detection.0b790414faca49768dca8ef0e99e5e83/artifacts/data_001/dataset.0b790414faca49768dca8ef0e99e5e83.e1gdub2c.zip\n",
            "2023-11-27 19:29:39,114 - clearml.storage - INFO - Downloading: 40.00MB / 428.05MB @ 11.54MBs from https://files.clear.ml/DL%20Team%206/.datasets/rtsd-detection/rtsd-detection.0b790414faca49768dca8ef0e99e5e83/artifacts/data_001/dataset.0b790414faca49768dca8ef0e99e5e83.e1gdub2c.zip\n",
            "2023-11-27 19:29:39,353 - clearml.storage - INFO - Downloading: 45.00MB / 428.05MB @ 20.95MBs from https://files.clear.ml/DL%20Team%206/.datasets/rtsd-detection/rtsd-detection.0b790414faca49768dca8ef0e99e5e83/artifacts/data_001/dataset.0b790414faca49768dca8ef0e99e5e83.e1gdub2c.zip\n",
            "2023-11-27 19:29:39,782 - clearml.storage - INFO - Downloading: 50.00MB / 428.05MB @ 11.65MBs from https://files.clear.ml/DL%20Team%206/.datasets/rtsd-detection/rtsd-detection.0b790414faca49768dca8ef0e99e5e83/artifacts/data_001/dataset.0b790414faca49768dca8ef0e99e5e83.e1gdub2c.zip\n",
            "2023-11-27 19:29:40,211 - clearml.storage - INFO - Downloading: 55.00MB / 428.05MB @ 11.66MBs from https://files.clear.ml/DL%20Team%206/.datasets/rtsd-detection/rtsd-detection.0b790414faca49768dca8ef0e99e5e83/artifacts/data_001/dataset.0b790414faca49768dca8ef0e99e5e83.e1gdub2c.zip\n",
            "2023-11-27 19:29:40,622 - clearml.storage - INFO - Downloading: 60.00MB / 428.05MB @ 12.15MBs from https://files.clear.ml/DL%20Team%206/.datasets/rtsd-detection/rtsd-detection.0b790414faca49768dca8ef0e99e5e83/artifacts/data_001/dataset.0b790414faca49768dca8ef0e99e5e83.e1gdub2c.zip\n",
            "2023-11-27 19:29:40,872 - clearml.storage - INFO - Downloading: 65.00MB / 428.05MB @ 20.07MBs from https://files.clear.ml/DL%20Team%206/.datasets/rtsd-detection/rtsd-detection.0b790414faca49768dca8ef0e99e5e83/artifacts/data_001/dataset.0b790414faca49768dca8ef0e99e5e83.e1gdub2c.zip\n",
            "2023-11-27 19:29:41,301 - clearml.storage - INFO - Downloading: 70.00MB / 428.05MB @ 11.65MBs from https://files.clear.ml/DL%20Team%206/.datasets/rtsd-detection/rtsd-detection.0b790414faca49768dca8ef0e99e5e83/artifacts/data_001/dataset.0b790414faca49768dca8ef0e99e5e83.e1gdub2c.zip\n",
            "2023-11-27 19:29:41,721 - clearml.storage - INFO - Downloading: 75.00MB / 428.05MB @ 11.89MBs from https://files.clear.ml/DL%20Team%206/.datasets/rtsd-detection/rtsd-detection.0b790414faca49768dca8ef0e99e5e83/artifacts/data_001/dataset.0b790414faca49768dca8ef0e99e5e83.e1gdub2c.zip\n",
            "2023-11-27 19:29:42,146 - clearml.storage - INFO - Downloading: 80.00MB / 428.05MB @ 11.77MBs from https://files.clear.ml/DL%20Team%206/.datasets/rtsd-detection/rtsd-detection.0b790414faca49768dca8ef0e99e5e83/artifacts/data_001/dataset.0b790414faca49768dca8ef0e99e5e83.e1gdub2c.zip\n",
            "2023-11-27 19:29:42,390 - clearml.storage - INFO - Downloading: 85.00MB / 428.05MB @ 20.49MBs from https://files.clear.ml/DL%20Team%206/.datasets/rtsd-detection/rtsd-detection.0b790414faca49768dca8ef0e99e5e83/artifacts/data_001/dataset.0b790414faca49768dca8ef0e99e5e83.e1gdub2c.zip\n",
            "2023-11-27 19:29:42,819 - clearml.storage - INFO - Downloading: 90.00MB / 428.05MB @ 11.67MBs from https://files.clear.ml/DL%20Team%206/.datasets/rtsd-detection/rtsd-detection.0b790414faca49768dca8ef0e99e5e83/artifacts/data_001/dataset.0b790414faca49768dca8ef0e99e5e83.e1gdub2c.zip\n",
            "2023-11-27 19:29:43,241 - clearml.storage - INFO - Downloading: 95.00MB / 428.05MB @ 11.83MBs from https://files.clear.ml/DL%20Team%206/.datasets/rtsd-detection/rtsd-detection.0b790414faca49768dca8ef0e99e5e83/artifacts/data_001/dataset.0b790414faca49768dca8ef0e99e5e83.e1gdub2c.zip\n",
            "2023-11-27 19:29:43,659 - clearml.storage - INFO - Downloading: 100.00MB / 428.05MB @ 11.97MBs from https://files.clear.ml/DL%20Team%206/.datasets/rtsd-detection/rtsd-detection.0b790414faca49768dca8ef0e99e5e83/artifacts/data_001/dataset.0b790414faca49768dca8ef0e99e5e83.e1gdub2c.zip\n",
            "2023-11-27 19:29:43,910 - clearml.storage - INFO - Downloading: 105.00MB / 428.05MB @ 19.97MBs from https://files.clear.ml/DL%20Team%206/.datasets/rtsd-detection/rtsd-detection.0b790414faca49768dca8ef0e99e5e83/artifacts/data_001/dataset.0b790414faca49768dca8ef0e99e5e83.e1gdub2c.zip\n",
            "2023-11-27 19:29:44,340 - clearml.storage - INFO - Downloading: 110.00MB / 428.05MB @ 11.63MBs from https://files.clear.ml/DL%20Team%206/.datasets/rtsd-detection/rtsd-detection.0b790414faca49768dca8ef0e99e5e83/artifacts/data_001/dataset.0b790414faca49768dca8ef0e99e5e83.e1gdub2c.zip\n",
            "2023-11-27 19:29:44,762 - clearml.storage - INFO - Downloading: 115.00MB / 428.05MB @ 11.84MBs from https://files.clear.ml/DL%20Team%206/.datasets/rtsd-detection/rtsd-detection.0b790414faca49768dca8ef0e99e5e83/artifacts/data_001/dataset.0b790414faca49768dca8ef0e99e5e83.e1gdub2c.zip\n",
            "2023-11-27 19:29:45,171 - clearml.storage - INFO - Downloading: 120.00MB / 428.05MB @ 12.23MBs from https://files.clear.ml/DL%20Team%206/.datasets/rtsd-detection/rtsd-detection.0b790414faca49768dca8ef0e99e5e83/artifacts/data_001/dataset.0b790414faca49768dca8ef0e99e5e83.e1gdub2c.zip\n",
            "2023-11-27 19:29:45,588 - clearml.storage - INFO - Downloading: 125.00MB / 428.05MB @ 11.99MBs from https://files.clear.ml/DL%20Team%206/.datasets/rtsd-detection/rtsd-detection.0b790414faca49768dca8ef0e99e5e83/artifacts/data_001/dataset.0b790414faca49768dca8ef0e99e5e83.e1gdub2c.zip\n",
            "2023-11-27 19:29:45,865 - clearml.storage - INFO - Downloading: 130.00MB / 428.05MB @ 18.07MBs from https://files.clear.ml/DL%20Team%206/.datasets/rtsd-detection/rtsd-detection.0b790414faca49768dca8ef0e99e5e83/artifacts/data_001/dataset.0b790414faca49768dca8ef0e99e5e83.e1gdub2c.zip\n",
            "2023-11-27 19:29:46,273 - clearml.storage - INFO - Downloading: 135.00MB / 428.05MB @ 12.26MBs from https://files.clear.ml/DL%20Team%206/.datasets/rtsd-detection/rtsd-detection.0b790414faca49768dca8ef0e99e5e83/artifacts/data_001/dataset.0b790414faca49768dca8ef0e99e5e83.e1gdub2c.zip\n",
            "2023-11-27 19:29:46,694 - clearml.storage - INFO - Downloading: 140.00MB / 428.05MB @ 11.86MBs from https://files.clear.ml/DL%20Team%206/.datasets/rtsd-detection/rtsd-detection.0b790414faca49768dca8ef0e99e5e83/artifacts/data_001/dataset.0b790414faca49768dca8ef0e99e5e83.e1gdub2c.zip\n",
            "2023-11-27 19:29:47,108 - clearml.storage - INFO - Downloading: 145.00MB / 428.05MB @ 12.09MBs from https://files.clear.ml/DL%20Team%206/.datasets/rtsd-detection/rtsd-detection.0b790414faca49768dca8ef0e99e5e83/artifacts/data_001/dataset.0b790414faca49768dca8ef0e99e5e83.e1gdub2c.zip\n",
            "2023-11-27 19:29:47,379 - clearml.storage - INFO - Downloading: 150.00MB / 428.05MB @ 18.46MBs from https://files.clear.ml/DL%20Team%206/.datasets/rtsd-detection/rtsd-detection.0b790414faca49768dca8ef0e99e5e83/artifacts/data_001/dataset.0b790414faca49768dca8ef0e99e5e83.e1gdub2c.zip\n",
            "2023-11-27 19:29:47,801 - clearml.storage - INFO - Downloading: 155.00MB / 428.05MB @ 11.84MBs from https://files.clear.ml/DL%20Team%206/.datasets/rtsd-detection/rtsd-detection.0b790414faca49768dca8ef0e99e5e83/artifacts/data_001/dataset.0b790414faca49768dca8ef0e99e5e83.e1gdub2c.zip\n",
            "2023-11-27 19:29:48,221 - clearml.storage - INFO - Downloading: 160.00MB / 428.05MB @ 11.92MBs from https://files.clear.ml/DL%20Team%206/.datasets/rtsd-detection/rtsd-detection.0b790414faca49768dca8ef0e99e5e83/artifacts/data_001/dataset.0b790414faca49768dca8ef0e99e5e83.e1gdub2c.zip\n",
            "2023-11-27 19:29:48,619 - clearml.storage - INFO - Downloading: 165.00MB / 428.05MB @ 12.54MBs from https://files.clear.ml/DL%20Team%206/.datasets/rtsd-detection/rtsd-detection.0b790414faca49768dca8ef0e99e5e83/artifacts/data_001/dataset.0b790414faca49768dca8ef0e99e5e83.e1gdub2c.zip\n",
            "2023-11-27 19:29:48,903 - clearml.storage - INFO - Downloading: 170.00MB / 428.05MB @ 17.61MBs from https://files.clear.ml/DL%20Team%206/.datasets/rtsd-detection/rtsd-detection.0b790414faca49768dca8ef0e99e5e83/artifacts/data_001/dataset.0b790414faca49768dca8ef0e99e5e83.e1gdub2c.zip\n",
            "2023-11-27 19:29:49,327 - clearml.storage - INFO - Downloading: 175.00MB / 428.05MB @ 11.81MBs from https://files.clear.ml/DL%20Team%206/.datasets/rtsd-detection/rtsd-detection.0b790414faca49768dca8ef0e99e5e83/artifacts/data_001/dataset.0b790414faca49768dca8ef0e99e5e83.e1gdub2c.zip\n",
            "2023-11-27 19:29:49,733 - clearml.storage - INFO - Downloading: 180.00MB / 428.05MB @ 12.31MBs from https://files.clear.ml/DL%20Team%206/.datasets/rtsd-detection/rtsd-detection.0b790414faca49768dca8ef0e99e5e83/artifacts/data_001/dataset.0b790414faca49768dca8ef0e99e5e83.e1gdub2c.zip\n",
            "2023-11-27 19:29:50,131 - clearml.storage - INFO - Downloading: 185.00MB / 428.05MB @ 12.57MBs from https://files.clear.ml/DL%20Team%206/.datasets/rtsd-detection/rtsd-detection.0b790414faca49768dca8ef0e99e5e83/artifacts/data_001/dataset.0b790414faca49768dca8ef0e99e5e83.e1gdub2c.zip\n",
            "2023-11-27 19:29:50,422 - clearml.storage - INFO - Downloading: 190.00MB / 428.05MB @ 17.15MBs from https://files.clear.ml/DL%20Team%206/.datasets/rtsd-detection/rtsd-detection.0b790414faca49768dca8ef0e99e5e83/artifacts/data_001/dataset.0b790414faca49768dca8ef0e99e5e83.e1gdub2c.zip\n",
            "2023-11-27 19:29:50,844 - clearml.storage - INFO - Downloading: 195.00MB / 428.05MB @ 11.85MBs from https://files.clear.ml/DL%20Team%206/.datasets/rtsd-detection/rtsd-detection.0b790414faca49768dca8ef0e99e5e83/artifacts/data_001/dataset.0b790414faca49768dca8ef0e99e5e83.e1gdub2c.zip\n",
            "2023-11-27 19:29:51,240 - clearml.storage - INFO - Downloading: 200.00MB / 428.05MB @ 12.62MBs from https://files.clear.ml/DL%20Team%206/.datasets/rtsd-detection/rtsd-detection.0b790414faca49768dca8ef0e99e5e83/artifacts/data_001/dataset.0b790414faca49768dca8ef0e99e5e83.e1gdub2c.zip\n",
            "2023-11-27 19:29:51,649 - clearml.storage - INFO - Downloading: 205.00MB / 428.05MB @ 12.23MBs from https://files.clear.ml/DL%20Team%206/.datasets/rtsd-detection/rtsd-detection.0b790414faca49768dca8ef0e99e5e83/artifacts/data_001/dataset.0b790414faca49768dca8ef0e99e5e83.e1gdub2c.zip\n",
            "2023-11-27 19:29:51,934 - clearml.storage - INFO - Downloading: 210.00MB / 428.05MB @ 17.53MBs from https://files.clear.ml/DL%20Team%206/.datasets/rtsd-detection/rtsd-detection.0b790414faca49768dca8ef0e99e5e83/artifacts/data_001/dataset.0b790414faca49768dca8ef0e99e5e83.e1gdub2c.zip\n",
            "2023-11-27 19:29:52,355 - clearml.storage - INFO - Downloading: 215.00MB / 428.05MB @ 11.87MBs from https://files.clear.ml/DL%20Team%206/.datasets/rtsd-detection/rtsd-detection.0b790414faca49768dca8ef0e99e5e83/artifacts/data_001/dataset.0b790414faca49768dca8ef0e99e5e83.e1gdub2c.zip\n",
            "2023-11-27 19:29:52,764 - clearml.storage - INFO - Downloading: 220.00MB / 428.05MB @ 12.25MBs from https://files.clear.ml/DL%20Team%206/.datasets/rtsd-detection/rtsd-detection.0b790414faca49768dca8ef0e99e5e83/artifacts/data_001/dataset.0b790414faca49768dca8ef0e99e5e83.e1gdub2c.zip\n",
            "2023-11-27 19:29:53,160 - clearml.storage - INFO - Downloading: 225.00MB / 428.05MB @ 12.61MBs from https://files.clear.ml/DL%20Team%206/.datasets/rtsd-detection/rtsd-detection.0b790414faca49768dca8ef0e99e5e83/artifacts/data_001/dataset.0b790414faca49768dca8ef0e99e5e83.e1gdub2c.zip\n",
            "2023-11-27 19:29:53,454 - clearml.storage - INFO - Downloading: 230.00MB / 428.05MB @ 17.00MBs from https://files.clear.ml/DL%20Team%206/.datasets/rtsd-detection/rtsd-detection.0b790414faca49768dca8ef0e99e5e83/artifacts/data_001/dataset.0b790414faca49768dca8ef0e99e5e83.e1gdub2c.zip\n",
            "2023-11-27 19:29:53,870 - clearml.storage - INFO - Downloading: 235.00MB / 428.05MB @ 12.04MBs from https://files.clear.ml/DL%20Team%206/.datasets/rtsd-detection/rtsd-detection.0b790414faca49768dca8ef0e99e5e83/artifacts/data_001/dataset.0b790414faca49768dca8ef0e99e5e83.e1gdub2c.zip\n",
            "2023-11-27 19:29:54,274 - clearml.storage - INFO - Downloading: 240.00MB / 428.05MB @ 12.35MBs from https://files.clear.ml/DL%20Team%206/.datasets/rtsd-detection/rtsd-detection.0b790414faca49768dca8ef0e99e5e83/artifacts/data_001/dataset.0b790414faca49768dca8ef0e99e5e83.e1gdub2c.zip\n",
            "2023-11-27 19:29:54,677 - clearml.storage - INFO - Downloading: 245.00MB / 428.05MB @ 12.41MBs from https://files.clear.ml/DL%20Team%206/.datasets/rtsd-detection/rtsd-detection.0b790414faca49768dca8ef0e99e5e83/artifacts/data_001/dataset.0b790414faca49768dca8ef0e99e5e83.e1gdub2c.zip\n",
            "2023-11-27 19:29:54,968 - clearml.storage - INFO - Downloading: 250.00MB / 428.05MB @ 17.23MBs from https://files.clear.ml/DL%20Team%206/.datasets/rtsd-detection/rtsd-detection.0b790414faca49768dca8ef0e99e5e83/artifacts/data_001/dataset.0b790414faca49768dca8ef0e99e5e83.e1gdub2c.zip\n",
            "2023-11-27 19:29:55,388 - clearml.storage - INFO - Downloading: 255.00MB / 428.05MB @ 11.88MBs from https://files.clear.ml/DL%20Team%206/.datasets/rtsd-detection/rtsd-detection.0b790414faca49768dca8ef0e99e5e83/artifacts/data_001/dataset.0b790414faca49768dca8ef0e99e5e83.e1gdub2c.zip\n",
            "2023-11-27 19:29:55,787 - clearml.storage - INFO - Downloading: 260.00MB / 428.05MB @ 12.54MBs from https://files.clear.ml/DL%20Team%206/.datasets/rtsd-detection/rtsd-detection.0b790414faca49768dca8ef0e99e5e83/artifacts/data_001/dataset.0b790414faca49768dca8ef0e99e5e83.e1gdub2c.zip\n",
            "2023-11-27 19:29:56,190 - clearml.storage - INFO - Downloading: 265.00MB / 428.05MB @ 12.41MBs from https://files.clear.ml/DL%20Team%206/.datasets/rtsd-detection/rtsd-detection.0b790414faca49768dca8ef0e99e5e83/artifacts/data_001/dataset.0b790414faca49768dca8ef0e99e5e83.e1gdub2c.zip\n",
            "2023-11-27 19:29:56,493 - clearml.storage - INFO - Downloading: 270.00MB / 428.05MB @ 16.49MBs from https://files.clear.ml/DL%20Team%206/.datasets/rtsd-detection/rtsd-detection.0b790414faca49768dca8ef0e99e5e83/artifacts/data_001/dataset.0b790414faca49768dca8ef0e99e5e83.e1gdub2c.zip\n",
            "2023-11-27 19:29:56,908 - clearml.storage - INFO - Downloading: 275.00MB / 428.05MB @ 12.04MBs from https://files.clear.ml/DL%20Team%206/.datasets/rtsd-detection/rtsd-detection.0b790414faca49768dca8ef0e99e5e83/artifacts/data_001/dataset.0b790414faca49768dca8ef0e99e5e83.e1gdub2c.zip\n",
            "2023-11-27 19:29:57,304 - clearml.storage - INFO - Downloading: 280.00MB / 428.05MB @ 12.64MBs from https://files.clear.ml/DL%20Team%206/.datasets/rtsd-detection/rtsd-detection.0b790414faca49768dca8ef0e99e5e83/artifacts/data_001/dataset.0b790414faca49768dca8ef0e99e5e83.e1gdub2c.zip\n",
            "2023-11-27 19:29:57,700 - clearml.storage - INFO - Downloading: 285.00MB / 428.05MB @ 12.62MBs from https://files.clear.ml/DL%20Team%206/.datasets/rtsd-detection/rtsd-detection.0b790414faca49768dca8ef0e99e5e83/artifacts/data_001/dataset.0b790414faca49768dca8ef0e99e5e83.e1gdub2c.zip\n",
            "2023-11-27 19:29:58,024 - clearml.storage - INFO - Downloading: 290.00MB / 428.05MB @ 15.45MBs from https://files.clear.ml/DL%20Team%206/.datasets/rtsd-detection/rtsd-detection.0b790414faca49768dca8ef0e99e5e83/artifacts/data_001/dataset.0b790414faca49768dca8ef0e99e5e83.e1gdub2c.zip\n",
            "2023-11-27 19:29:58,429 - clearml.storage - INFO - Downloading: 295.00MB / 428.05MB @ 12.33MBs from https://files.clear.ml/DL%20Team%206/.datasets/rtsd-detection/rtsd-detection.0b790414faca49768dca8ef0e99e5e83/artifacts/data_001/dataset.0b790414faca49768dca8ef0e99e5e83.e1gdub2c.zip\n",
            "2023-11-27 19:29:58,816 - clearml.storage - INFO - Downloading: 300.00MB / 428.05MB @ 12.91MBs from https://files.clear.ml/DL%20Team%206/.datasets/rtsd-detection/rtsd-detection.0b790414faca49768dca8ef0e99e5e83/artifacts/data_001/dataset.0b790414faca49768dca8ef0e99e5e83.e1gdub2c.zip\n",
            "2023-11-27 19:29:59,222 - clearml.storage - INFO - Downloading: 305.00MB / 428.05MB @ 12.33MBs from https://files.clear.ml/DL%20Team%206/.datasets/rtsd-detection/rtsd-detection.0b790414faca49768dca8ef0e99e5e83/artifacts/data_001/dataset.0b790414faca49768dca8ef0e99e5e83.e1gdub2c.zip\n",
            "2023-11-27 19:29:59,549 - clearml.storage - INFO - Downloading: 310.00MB / 428.05MB @ 15.26MBs from https://files.clear.ml/DL%20Team%206/.datasets/rtsd-detection/rtsd-detection.0b790414faca49768dca8ef0e99e5e83/artifacts/data_001/dataset.0b790414faca49768dca8ef0e99e5e83.e1gdub2c.zip\n",
            "2023-11-27 19:29:59,941 - clearml.storage - INFO - Downloading: 315.00MB / 428.05MB @ 12.78MBs from https://files.clear.ml/DL%20Team%206/.datasets/rtsd-detection/rtsd-detection.0b790414faca49768dca8ef0e99e5e83/artifacts/data_001/dataset.0b790414faca49768dca8ef0e99e5e83.e1gdub2c.zip\n",
            "2023-11-27 19:30:00,325 - clearml.storage - INFO - Downloading: 320.00MB / 428.05MB @ 13.01MBs from https://files.clear.ml/DL%20Team%206/.datasets/rtsd-detection/rtsd-detection.0b790414faca49768dca8ef0e99e5e83/artifacts/data_001/dataset.0b790414faca49768dca8ef0e99e5e83.e1gdub2c.zip\n",
            "2023-11-27 19:30:00,730 - clearml.storage - INFO - Downloading: 325.00MB / 428.05MB @ 12.33MBs from https://files.clear.ml/DL%20Team%206/.datasets/rtsd-detection/rtsd-detection.0b790414faca49768dca8ef0e99e5e83/artifacts/data_001/dataset.0b790414faca49768dca8ef0e99e5e83.e1gdub2c.zip\n",
            "2023-11-27 19:30:01,068 - clearml.storage - INFO - Downloading: 330.00MB / 428.05MB @ 14.83MBs from https://files.clear.ml/DL%20Team%206/.datasets/rtsd-detection/rtsd-detection.0b790414faca49768dca8ef0e99e5e83/artifacts/data_001/dataset.0b790414faca49768dca8ef0e99e5e83.e1gdub2c.zip\n",
            "2023-11-27 19:30:01,448 - clearml.storage - INFO - Downloading: 335.00MB / 428.05MB @ 13.14MBs from https://files.clear.ml/DL%20Team%206/.datasets/rtsd-detection/rtsd-detection.0b790414faca49768dca8ef0e99e5e83/artifacts/data_001/dataset.0b790414faca49768dca8ef0e99e5e83.e1gdub2c.zip\n",
            "2023-11-27 19:30:01,845 - clearml.storage - INFO - Downloading: 340.00MB / 428.05MB @ 12.60MBs from https://files.clear.ml/DL%20Team%206/.datasets/rtsd-detection/rtsd-detection.0b790414faca49768dca8ef0e99e5e83/artifacts/data_001/dataset.0b790414faca49768dca8ef0e99e5e83.e1gdub2c.zip\n",
            "2023-11-27 19:30:02,250 - clearml.storage - INFO - Downloading: 345.00MB / 428.05MB @ 12.33MBs from https://files.clear.ml/DL%20Team%206/.datasets/rtsd-detection/rtsd-detection.0b790414faca49768dca8ef0e99e5e83/artifacts/data_001/dataset.0b790414faca49768dca8ef0e99e5e83.e1gdub2c.zip\n",
            "2023-11-27 19:30:02,579 - clearml.storage - INFO - Downloading: 350.00MB / 428.05MB @ 15.20MBs from https://files.clear.ml/DL%20Team%206/.datasets/rtsd-detection/rtsd-detection.0b790414faca49768dca8ef0e99e5e83/artifacts/data_001/dataset.0b790414faca49768dca8ef0e99e5e83.e1gdub2c.zip\n",
            "2023-11-27 19:30:02,972 - clearml.storage - INFO - Downloading: 355.00MB / 428.05MB @ 12.75MBs from https://files.clear.ml/DL%20Team%206/.datasets/rtsd-detection/rtsd-detection.0b790414faca49768dca8ef0e99e5e83/artifacts/data_001/dataset.0b790414faca49768dca8ef0e99e5e83.e1gdub2c.zip\n",
            "2023-11-27 19:30:03,355 - clearml.storage - INFO - Downloading: 360.00MB / 428.05MB @ 13.03MBs from https://files.clear.ml/DL%20Team%206/.datasets/rtsd-detection/rtsd-detection.0b790414faca49768dca8ef0e99e5e83/artifacts/data_001/dataset.0b790414faca49768dca8ef0e99e5e83.e1gdub2c.zip\n",
            "2023-11-27 19:30:03,761 - clearml.storage - INFO - Downloading: 365.00MB / 428.05MB @ 12.32MBs from https://files.clear.ml/DL%20Team%206/.datasets/rtsd-detection/rtsd-detection.0b790414faca49768dca8ef0e99e5e83/artifacts/data_001/dataset.0b790414faca49768dca8ef0e99e5e83.e1gdub2c.zip\n",
            "2023-11-27 19:30:04,096 - clearml.storage - INFO - Downloading: 370.00MB / 428.05MB @ 14.92MBs from https://files.clear.ml/DL%20Team%206/.datasets/rtsd-detection/rtsd-detection.0b790414faca49768dca8ef0e99e5e83/artifacts/data_001/dataset.0b790414faca49768dca8ef0e99e5e83.e1gdub2c.zip\n",
            "2023-11-27 19:30:04,482 - clearml.storage - INFO - Downloading: 375.00MB / 428.05MB @ 12.96MBs from https://files.clear.ml/DL%20Team%206/.datasets/rtsd-detection/rtsd-detection.0b790414faca49768dca8ef0e99e5e83/artifacts/data_001/dataset.0b790414faca49768dca8ef0e99e5e83.e1gdub2c.zip\n",
            "2023-11-27 19:30:04,874 - clearml.storage - INFO - Downloading: 380.00MB / 428.05MB @ 12.78MBs from https://files.clear.ml/DL%20Team%206/.datasets/rtsd-detection/rtsd-detection.0b790414faca49768dca8ef0e99e5e83/artifacts/data_001/dataset.0b790414faca49768dca8ef0e99e5e83.e1gdub2c.zip\n",
            "2023-11-27 19:30:05,273 - clearml.storage - INFO - Downloading: 385.00MB / 428.05MB @ 12.53MBs from https://files.clear.ml/DL%20Team%206/.datasets/rtsd-detection/rtsd-detection.0b790414faca49768dca8ef0e99e5e83/artifacts/data_001/dataset.0b790414faca49768dca8ef0e99e5e83.e1gdub2c.zip\n",
            "2023-11-27 19:30:05,602 - clearml.storage - INFO - Downloading: 390.00MB / 428.05MB @ 15.19MBs from https://files.clear.ml/DL%20Team%206/.datasets/rtsd-detection/rtsd-detection.0b790414faca49768dca8ef0e99e5e83/artifacts/data_001/dataset.0b790414faca49768dca8ef0e99e5e83.e1gdub2c.zip\n",
            "2023-11-27 19:30:06,005 - clearml.storage - INFO - Downloading: 395.00MB / 428.05MB @ 12.41MBs from https://files.clear.ml/DL%20Team%206/.datasets/rtsd-detection/rtsd-detection.0b790414faca49768dca8ef0e99e5e83/artifacts/data_001/dataset.0b790414faca49768dca8ef0e99e5e83.e1gdub2c.zip\n",
            "2023-11-27 19:30:06,390 - clearml.storage - INFO - Downloading: 400.00MB / 428.05MB @ 12.99MBs from https://files.clear.ml/DL%20Team%206/.datasets/rtsd-detection/rtsd-detection.0b790414faca49768dca8ef0e99e5e83/artifacts/data_001/dataset.0b790414faca49768dca8ef0e99e5e83.e1gdub2c.zip\n",
            "2023-11-27 19:30:06,791 - clearml.storage - INFO - Downloading: 405.00MB / 428.05MB @ 12.46MBs from https://files.clear.ml/DL%20Team%206/.datasets/rtsd-detection/rtsd-detection.0b790414faca49768dca8ef0e99e5e83/artifacts/data_001/dataset.0b790414faca49768dca8ef0e99e5e83.e1gdub2c.zip\n",
            "2023-11-27 19:30:07,120 - clearml.storage - INFO - Downloading: 410.00MB / 428.05MB @ 15.19MBs from https://files.clear.ml/DL%20Team%206/.datasets/rtsd-detection/rtsd-detection.0b790414faca49768dca8ef0e99e5e83/artifacts/data_001/dataset.0b790414faca49768dca8ef0e99e5e83.e1gdub2c.zip\n",
            "2023-11-27 19:30:07,514 - clearml.storage - INFO - Downloading: 415.00MB / 428.05MB @ 12.67MBs from https://files.clear.ml/DL%20Team%206/.datasets/rtsd-detection/rtsd-detection.0b790414faca49768dca8ef0e99e5e83/artifacts/data_001/dataset.0b790414faca49768dca8ef0e99e5e83.e1gdub2c.zip\n",
            "2023-11-27 19:30:07,912 - clearml.storage - INFO - Downloading: 420.00MB / 428.05MB @ 12.59MBs from https://files.clear.ml/DL%20Team%206/.datasets/rtsd-detection/rtsd-detection.0b790414faca49768dca8ef0e99e5e83/artifacts/data_001/dataset.0b790414faca49768dca8ef0e99e5e83.e1gdub2c.zip\n",
            "2023-11-27 19:30:08,303 - clearml.storage - INFO - Downloading: 425.00MB / 428.05MB @ 12.77MBs from https://files.clear.ml/DL%20Team%206/.datasets/rtsd-detection/rtsd-detection.0b790414faca49768dca8ef0e99e5e83/artifacts/data_001/dataset.0b790414faca49768dca8ef0e99e5e83.e1gdub2c.zip\n",
            "2023-11-27 19:30:08,526 - clearml.storage - INFO - Downloaded 428.05 MB successfully from https://files.clear.ml/DL%20Team%206/.datasets/rtsd-detection/rtsd-detection.0b790414faca49768dca8ef0e99e5e83/artifacts/data_001/dataset.0b790414faca49768dca8ef0e99e5e83.e1gdub2c.zip , saved to /root/.clearml/cache/storage_manager/datasets/07afb81b8dc37fdfb33adf3415dba302.dataset.0b790414faca49768dca8ef0e99e5e83.e1gdub2c.zip\n",
            "2023-11-27 19:30:11,928 - clearml.storage - INFO - Downloading: 5.00MB / 285.49MB @ 1.59MBs from https://files.clear.ml/DL%20Team%206/.datasets/rtsd-detection/rtsd-detection.0b790414faca49768dca8ef0e99e5e83/artifacts/data_002/dataset.0b790414faca49768dca8ef0e99e5e83.mg6gkuim.zip\n",
            "2023-11-27 19:30:12,177 - clearml.storage - INFO - Downloading: 10.00MB / 285.49MB @ 20.11MBs from https://files.clear.ml/DL%20Team%206/.datasets/rtsd-detection/rtsd-detection.0b790414faca49768dca8ef0e99e5e83/artifacts/data_002/dataset.0b790414faca49768dca8ef0e99e5e83.mg6gkuim.zip\n",
            "2023-11-27 19:30:12,584 - clearml.storage - INFO - Downloading: 15.00MB / 285.49MB @ 12.30MBs from https://files.clear.ml/DL%20Team%206/.datasets/rtsd-detection/rtsd-detection.0b790414faca49768dca8ef0e99e5e83/artifacts/data_002/dataset.0b790414faca49768dca8ef0e99e5e83.mg6gkuim.zip\n",
            "2023-11-27 19:30:12,819 - clearml.storage - INFO - Downloading: 20.00MB / 285.49MB @ 21.22MBs from https://files.clear.ml/DL%20Team%206/.datasets/rtsd-detection/rtsd-detection.0b790414faca49768dca8ef0e99e5e83/artifacts/data_002/dataset.0b790414faca49768dca8ef0e99e5e83.mg6gkuim.zip\n",
            "2023-11-27 19:30:13,062 - clearml.storage - INFO - Downloading: 25.00MB / 285.49MB @ 20.62MBs from https://files.clear.ml/DL%20Team%206/.datasets/rtsd-detection/rtsd-detection.0b790414faca49768dca8ef0e99e5e83/artifacts/data_002/dataset.0b790414faca49768dca8ef0e99e5e83.mg6gkuim.zip\n",
            "2023-11-27 19:30:13,302 - clearml.storage - INFO - Downloading: 30.00MB / 285.49MB @ 20.79MBs from https://files.clear.ml/DL%20Team%206/.datasets/rtsd-detection/rtsd-detection.0b790414faca49768dca8ef0e99e5e83/artifacts/data_002/dataset.0b790414faca49768dca8ef0e99e5e83.mg6gkuim.zip\n",
            "2023-11-27 19:30:13,539 - clearml.storage - INFO - Downloading: 35.00MB / 285.49MB @ 21.11MBs from https://files.clear.ml/DL%20Team%206/.datasets/rtsd-detection/rtsd-detection.0b790414faca49768dca8ef0e99e5e83/artifacts/data_002/dataset.0b790414faca49768dca8ef0e99e5e83.mg6gkuim.zip\n",
            "2023-11-27 19:30:13,936 - clearml.storage - INFO - Downloading: 40.00MB / 285.49MB @ 12.60MBs from https://files.clear.ml/DL%20Team%206/.datasets/rtsd-detection/rtsd-detection.0b790414faca49768dca8ef0e99e5e83/artifacts/data_002/dataset.0b790414faca49768dca8ef0e99e5e83.mg6gkuim.zip\n",
            "2023-11-27 19:30:14,178 - clearml.storage - INFO - Downloading: 45.00MB / 285.49MB @ 20.68MBs from https://files.clear.ml/DL%20Team%206/.datasets/rtsd-detection/rtsd-detection.0b790414faca49768dca8ef0e99e5e83/artifacts/data_002/dataset.0b790414faca49768dca8ef0e99e5e83.mg6gkuim.zip\n",
            "2023-11-27 19:30:14,409 - clearml.storage - INFO - Downloading: 50.00MB / 285.49MB @ 21.63MBs from https://files.clear.ml/DL%20Team%206/.datasets/rtsd-detection/rtsd-detection.0b790414faca49768dca8ef0e99e5e83/artifacts/data_002/dataset.0b790414faca49768dca8ef0e99e5e83.mg6gkuim.zip\n",
            "2023-11-27 19:30:14,650 - clearml.storage - INFO - Downloading: 55.00MB / 285.49MB @ 20.76MBs from https://files.clear.ml/DL%20Team%206/.datasets/rtsd-detection/rtsd-detection.0b790414faca49768dca8ef0e99e5e83/artifacts/data_002/dataset.0b790414faca49768dca8ef0e99e5e83.mg6gkuim.zip\n",
            "2023-11-27 19:30:14,883 - clearml.storage - INFO - Downloading: 60.00MB / 285.49MB @ 21.44MBs from https://files.clear.ml/DL%20Team%206/.datasets/rtsd-detection/rtsd-detection.0b790414faca49768dca8ef0e99e5e83/artifacts/data_002/dataset.0b790414faca49768dca8ef0e99e5e83.mg6gkuim.zip\n",
            "2023-11-27 19:30:15,117 - clearml.storage - INFO - Downloading: 65.00MB / 285.49MB @ 21.39MBs from https://files.clear.ml/DL%20Team%206/.datasets/rtsd-detection/rtsd-detection.0b790414faca49768dca8ef0e99e5e83/artifacts/data_002/dataset.0b790414faca49768dca8ef0e99e5e83.mg6gkuim.zip\n",
            "2023-11-27 19:30:15,352 - clearml.storage - INFO - Downloading: 70.00MB / 285.49MB @ 21.24MBs from https://files.clear.ml/DL%20Team%206/.datasets/rtsd-detection/rtsd-detection.0b790414faca49768dca8ef0e99e5e83/artifacts/data_002/dataset.0b790414faca49768dca8ef0e99e5e83.mg6gkuim.zip\n",
            "2023-11-27 19:30:15,583 - clearml.storage - INFO - Downloading: 75.00MB / 285.49MB @ 21.62MBs from https://files.clear.ml/DL%20Team%206/.datasets/rtsd-detection/rtsd-detection.0b790414faca49768dca8ef0e99e5e83/artifacts/data_002/dataset.0b790414faca49768dca8ef0e99e5e83.mg6gkuim.zip\n",
            "2023-11-27 19:30:15,845 - clearml.storage - INFO - Downloading: 80.00MB / 285.49MB @ 19.09MBs from https://files.clear.ml/DL%20Team%206/.datasets/rtsd-detection/rtsd-detection.0b790414faca49768dca8ef0e99e5e83/artifacts/data_002/dataset.0b790414faca49768dca8ef0e99e5e83.mg6gkuim.zip\n",
            "2023-11-27 19:30:16,082 - clearml.storage - INFO - Downloading: 85.00MB / 285.49MB @ 21.11MBs from https://files.clear.ml/DL%20Team%206/.datasets/rtsd-detection/rtsd-detection.0b790414faca49768dca8ef0e99e5e83/artifacts/data_002/dataset.0b790414faca49768dca8ef0e99e5e83.mg6gkuim.zip\n",
            "2023-11-27 19:30:16,313 - clearml.storage - INFO - Downloading: 90.00MB / 285.49MB @ 21.64MBs from https://files.clear.ml/DL%20Team%206/.datasets/rtsd-detection/rtsd-detection.0b790414faca49768dca8ef0e99e5e83/artifacts/data_002/dataset.0b790414faca49768dca8ef0e99e5e83.mg6gkuim.zip\n",
            "2023-11-27 19:30:16,625 - clearml.storage - INFO - Downloading: 95.00MB / 285.49MB @ 16.05MBs from https://files.clear.ml/DL%20Team%206/.datasets/rtsd-detection/rtsd-detection.0b790414faca49768dca8ef0e99e5e83/artifacts/data_002/dataset.0b790414faca49768dca8ef0e99e5e83.mg6gkuim.zip\n",
            "2023-11-27 19:30:16,859 - clearml.storage - INFO - Downloading: 100.00MB / 285.49MB @ 21.34MBs from https://files.clear.ml/DL%20Team%206/.datasets/rtsd-detection/rtsd-detection.0b790414faca49768dca8ef0e99e5e83/artifacts/data_002/dataset.0b790414faca49768dca8ef0e99e5e83.mg6gkuim.zip\n",
            "2023-11-27 19:30:17,098 - clearml.storage - INFO - Downloading: 105.00MB / 285.49MB @ 20.97MBs from https://files.clear.ml/DL%20Team%206/.datasets/rtsd-detection/rtsd-detection.0b790414faca49768dca8ef0e99e5e83/artifacts/data_002/dataset.0b790414faca49768dca8ef0e99e5e83.mg6gkuim.zip\n",
            "2023-11-27 19:30:17,331 - clearml.storage - INFO - Downloading: 110.00MB / 285.49MB @ 21.38MBs from https://files.clear.ml/DL%20Team%206/.datasets/rtsd-detection/rtsd-detection.0b790414faca49768dca8ef0e99e5e83/artifacts/data_002/dataset.0b790414faca49768dca8ef0e99e5e83.mg6gkuim.zip\n",
            "2023-11-27 19:30:17,571 - clearml.storage - INFO - Downloading: 115.00MB / 285.49MB @ 20.90MBs from https://files.clear.ml/DL%20Team%206/.datasets/rtsd-detection/rtsd-detection.0b790414faca49768dca8ef0e99e5e83/artifacts/data_002/dataset.0b790414faca49768dca8ef0e99e5e83.mg6gkuim.zip\n",
            "2023-11-27 19:30:17,808 - clearml.storage - INFO - Downloading: 120.00MB / 285.49MB @ 21.05MBs from https://files.clear.ml/DL%20Team%206/.datasets/rtsd-detection/rtsd-detection.0b790414faca49768dca8ef0e99e5e83/artifacts/data_002/dataset.0b790414faca49768dca8ef0e99e5e83.mg6gkuim.zip\n",
            "2023-11-27 19:30:18,045 - clearml.storage - INFO - Downloading: 125.00MB / 285.49MB @ 21.13MBs from https://files.clear.ml/DL%20Team%206/.datasets/rtsd-detection/rtsd-detection.0b790414faca49768dca8ef0e99e5e83/artifacts/data_002/dataset.0b790414faca49768dca8ef0e99e5e83.mg6gkuim.zip\n",
            "2023-11-27 19:30:18,279 - clearml.storage - INFO - Downloading: 130.00MB / 285.49MB @ 21.32MBs from https://files.clear.ml/DL%20Team%206/.datasets/rtsd-detection/rtsd-detection.0b790414faca49768dca8ef0e99e5e83/artifacts/data_002/dataset.0b790414faca49768dca8ef0e99e5e83.mg6gkuim.zip\n",
            "2023-11-27 19:30:18,518 - clearml.storage - INFO - Downloading: 135.00MB / 285.49MB @ 20.99MBs from https://files.clear.ml/DL%20Team%206/.datasets/rtsd-detection/rtsd-detection.0b790414faca49768dca8ef0e99e5e83/artifacts/data_002/dataset.0b790414faca49768dca8ef0e99e5e83.mg6gkuim.zip\n",
            "2023-11-27 19:30:18,766 - clearml.storage - INFO - Downloading: 140.00MB / 285.49MB @ 20.16MBs from https://files.clear.ml/DL%20Team%206/.datasets/rtsd-detection/rtsd-detection.0b790414faca49768dca8ef0e99e5e83/artifacts/data_002/dataset.0b790414faca49768dca8ef0e99e5e83.mg6gkuim.zip\n",
            "2023-11-27 19:30:19,001 - clearml.storage - INFO - Downloading: 145.00MB / 285.49MB @ 21.24MBs from https://files.clear.ml/DL%20Team%206/.datasets/rtsd-detection/rtsd-detection.0b790414faca49768dca8ef0e99e5e83/artifacts/data_002/dataset.0b790414faca49768dca8ef0e99e5e83.mg6gkuim.zip\n",
            "2023-11-27 19:30:19,247 - clearml.storage - INFO - Downloading: 150.00MB / 285.49MB @ 20.35MBs from https://files.clear.ml/DL%20Team%206/.datasets/rtsd-detection/rtsd-detection.0b790414faca49768dca8ef0e99e5e83/artifacts/data_002/dataset.0b790414faca49768dca8ef0e99e5e83.mg6gkuim.zip\n",
            "2023-11-27 19:30:19,478 - clearml.storage - INFO - Downloading: 155.00MB / 285.49MB @ 21.61MBs from https://files.clear.ml/DL%20Team%206/.datasets/rtsd-detection/rtsd-detection.0b790414faca49768dca8ef0e99e5e83/artifacts/data_002/dataset.0b790414faca49768dca8ef0e99e5e83.mg6gkuim.zip\n",
            "2023-11-27 19:30:19,767 - clearml.storage - INFO - Downloading: 160.00MB / 285.49MB @ 17.31MBs from https://files.clear.ml/DL%20Team%206/.datasets/rtsd-detection/rtsd-detection.0b790414faca49768dca8ef0e99e5e83/artifacts/data_002/dataset.0b790414faca49768dca8ef0e99e5e83.mg6gkuim.zip\n",
            "2023-11-27 19:30:19,999 - clearml.storage - INFO - Downloading: 165.00MB / 285.49MB @ 21.57MBs from https://files.clear.ml/DL%20Team%206/.datasets/rtsd-detection/rtsd-detection.0b790414faca49768dca8ef0e99e5e83/artifacts/data_002/dataset.0b790414faca49768dca8ef0e99e5e83.mg6gkuim.zip\n",
            "2023-11-27 19:30:20,233 - clearml.storage - INFO - Downloading: 170.00MB / 285.49MB @ 21.39MBs from https://files.clear.ml/DL%20Team%206/.datasets/rtsd-detection/rtsd-detection.0b790414faca49768dca8ef0e99e5e83/artifacts/data_002/dataset.0b790414faca49768dca8ef0e99e5e83.mg6gkuim.zip\n",
            "2023-11-27 19:30:20,465 - clearml.storage - INFO - Downloading: 175.00MB / 285.49MB @ 21.51MBs from https://files.clear.ml/DL%20Team%206/.datasets/rtsd-detection/rtsd-detection.0b790414faca49768dca8ef0e99e5e83/artifacts/data_002/dataset.0b790414faca49768dca8ef0e99e5e83.mg6gkuim.zip\n",
            "2023-11-27 19:30:20,705 - clearml.storage - INFO - Downloading: 180.00MB / 285.49MB @ 20.84MBs from https://files.clear.ml/DL%20Team%206/.datasets/rtsd-detection/rtsd-detection.0b790414faca49768dca8ef0e99e5e83/artifacts/data_002/dataset.0b790414faca49768dca8ef0e99e5e83.mg6gkuim.zip\n",
            "2023-11-27 19:30:20,944 - clearml.storage - INFO - Downloading: 185.00MB / 285.49MB @ 20.89MBs from https://files.clear.ml/DL%20Team%206/.datasets/rtsd-detection/rtsd-detection.0b790414faca49768dca8ef0e99e5e83/artifacts/data_002/dataset.0b790414faca49768dca8ef0e99e5e83.mg6gkuim.zip\n",
            "2023-11-27 19:30:21,185 - clearml.storage - INFO - Downloading: 190.00MB / 285.49MB @ 20.75MBs from https://files.clear.ml/DL%20Team%206/.datasets/rtsd-detection/rtsd-detection.0b790414faca49768dca8ef0e99e5e83/artifacts/data_002/dataset.0b790414faca49768dca8ef0e99e5e83.mg6gkuim.zip\n",
            "2023-11-27 19:30:21,419 - clearml.storage - INFO - Downloading: 195.00MB / 285.49MB @ 21.39MBs from https://files.clear.ml/DL%20Team%206/.datasets/rtsd-detection/rtsd-detection.0b790414faca49768dca8ef0e99e5e83/artifacts/data_002/dataset.0b790414faca49768dca8ef0e99e5e83.mg6gkuim.zip\n",
            "2023-11-27 19:30:21,654 - clearml.storage - INFO - Downloading: 200.00MB / 285.49MB @ 21.25MBs from https://files.clear.ml/DL%20Team%206/.datasets/rtsd-detection/rtsd-detection.0b790414faca49768dca8ef0e99e5e83/artifacts/data_002/dataset.0b790414faca49768dca8ef0e99e5e83.mg6gkuim.zip\n",
            "2023-11-27 19:30:21,907 - clearml.storage - INFO - Downloading: 205.00MB / 285.49MB @ 19.80MBs from https://files.clear.ml/DL%20Team%206/.datasets/rtsd-detection/rtsd-detection.0b790414faca49768dca8ef0e99e5e83/artifacts/data_002/dataset.0b790414faca49768dca8ef0e99e5e83.mg6gkuim.zip\n",
            "2023-11-27 19:30:22,143 - clearml.storage - INFO - Downloading: 210.00MB / 285.49MB @ 21.18MBs from https://files.clear.ml/DL%20Team%206/.datasets/rtsd-detection/rtsd-detection.0b790414faca49768dca8ef0e99e5e83/artifacts/data_002/dataset.0b790414faca49768dca8ef0e99e5e83.mg6gkuim.zip\n",
            "2023-11-27 19:30:22,381 - clearml.storage - INFO - Downloading: 215.00MB / 285.49MB @ 21.06MBs from https://files.clear.ml/DL%20Team%206/.datasets/rtsd-detection/rtsd-detection.0b790414faca49768dca8ef0e99e5e83/artifacts/data_002/dataset.0b790414faca49768dca8ef0e99e5e83.mg6gkuim.zip\n",
            "2023-11-27 19:30:22,623 - clearml.storage - INFO - Downloading: 220.00MB / 285.49MB @ 20.61MBs from https://files.clear.ml/DL%20Team%206/.datasets/rtsd-detection/rtsd-detection.0b790414faca49768dca8ef0e99e5e83/artifacts/data_002/dataset.0b790414faca49768dca8ef0e99e5e83.mg6gkuim.zip\n",
            "2023-11-27 19:30:22,911 - clearml.storage - INFO - Downloading: 225.00MB / 285.49MB @ 17.37MBs from https://files.clear.ml/DL%20Team%206/.datasets/rtsd-detection/rtsd-detection.0b790414faca49768dca8ef0e99e5e83/artifacts/data_002/dataset.0b790414faca49768dca8ef0e99e5e83.mg6gkuim.zip\n",
            "2023-11-27 19:30:23,147 - clearml.storage - INFO - Downloading: 230.00MB / 285.49MB @ 21.16MBs from https://files.clear.ml/DL%20Team%206/.datasets/rtsd-detection/rtsd-detection.0b790414faca49768dca8ef0e99e5e83/artifacts/data_002/dataset.0b790414faca49768dca8ef0e99e5e83.mg6gkuim.zip\n",
            "2023-11-27 19:30:23,384 - clearml.storage - INFO - Downloading: 235.00MB / 285.49MB @ 21.16MBs from https://files.clear.ml/DL%20Team%206/.datasets/rtsd-detection/rtsd-detection.0b790414faca49768dca8ef0e99e5e83/artifacts/data_002/dataset.0b790414faca49768dca8ef0e99e5e83.mg6gkuim.zip\n",
            "2023-11-27 19:30:23,624 - clearml.storage - INFO - Downloading: 240.00MB / 285.49MB @ 20.84MBs from https://files.clear.ml/DL%20Team%206/.datasets/rtsd-detection/rtsd-detection.0b790414faca49768dca8ef0e99e5e83/artifacts/data_002/dataset.0b790414faca49768dca8ef0e99e5e83.mg6gkuim.zip\n",
            "2023-11-27 19:30:23,865 - clearml.storage - INFO - Downloading: 245.00MB / 285.49MB @ 20.68MBs from https://files.clear.ml/DL%20Team%206/.datasets/rtsd-detection/rtsd-detection.0b790414faca49768dca8ef0e99e5e83/artifacts/data_002/dataset.0b790414faca49768dca8ef0e99e5e83.mg6gkuim.zip\n",
            "2023-11-27 19:30:24,111 - clearml.storage - INFO - Downloading: 250.00MB / 285.49MB @ 20.38MBs from https://files.clear.ml/DL%20Team%206/.datasets/rtsd-detection/rtsd-detection.0b790414faca49768dca8ef0e99e5e83/artifacts/data_002/dataset.0b790414faca49768dca8ef0e99e5e83.mg6gkuim.zip\n",
            "2023-11-27 19:30:24,343 - clearml.storage - INFO - Downloading: 255.00MB / 285.49MB @ 21.52MBs from https://files.clear.ml/DL%20Team%206/.datasets/rtsd-detection/rtsd-detection.0b790414faca49768dca8ef0e99e5e83/artifacts/data_002/dataset.0b790414faca49768dca8ef0e99e5e83.mg6gkuim.zip\n",
            "2023-11-27 19:30:24,585 - clearml.storage - INFO - Downloading: 260.00MB / 285.49MB @ 20.69MBs from https://files.clear.ml/DL%20Team%206/.datasets/rtsd-detection/rtsd-detection.0b790414faca49768dca8ef0e99e5e83/artifacts/data_002/dataset.0b790414faca49768dca8ef0e99e5e83.mg6gkuim.zip\n",
            "2023-11-27 19:30:24,852 - clearml.storage - INFO - Downloading: 265.00MB / 285.49MB @ 18.75MBs from https://files.clear.ml/DL%20Team%206/.datasets/rtsd-detection/rtsd-detection.0b790414faca49768dca8ef0e99e5e83/artifacts/data_002/dataset.0b790414faca49768dca8ef0e99e5e83.mg6gkuim.zip\n",
            "2023-11-27 19:30:25,090 - clearml.storage - INFO - Downloading: 270.00MB / 285.49MB @ 20.95MBs from https://files.clear.ml/DL%20Team%206/.datasets/rtsd-detection/rtsd-detection.0b790414faca49768dca8ef0e99e5e83/artifacts/data_002/dataset.0b790414faca49768dca8ef0e99e5e83.mg6gkuim.zip\n",
            "2023-11-27 19:30:25,325 - clearml.storage - INFO - Downloading: 275.00MB / 285.49MB @ 21.32MBs from https://files.clear.ml/DL%20Team%206/.datasets/rtsd-detection/rtsd-detection.0b790414faca49768dca8ef0e99e5e83/artifacts/data_002/dataset.0b790414faca49768dca8ef0e99e5e83.mg6gkuim.zip\n",
            "2023-11-27 19:30:25,560 - clearml.storage - INFO - Downloading: 280.00MB / 285.49MB @ 21.23MBs from https://files.clear.ml/DL%20Team%206/.datasets/rtsd-detection/rtsd-detection.0b790414faca49768dca8ef0e99e5e83/artifacts/data_002/dataset.0b790414faca49768dca8ef0e99e5e83.mg6gkuim.zip\n",
            "2023-11-27 19:30:25,794 - clearml.storage - INFO - Downloading: 285.00MB / 285.49MB @ 21.40MBs from https://files.clear.ml/DL%20Team%206/.datasets/rtsd-detection/rtsd-detection.0b790414faca49768dca8ef0e99e5e83/artifacts/data_002/dataset.0b790414faca49768dca8ef0e99e5e83.mg6gkuim.zip\n",
            "2023-11-27 19:30:25,826 - clearml.storage - INFO - Downloaded 285.49 MB successfully from https://files.clear.ml/DL%20Team%206/.datasets/rtsd-detection/rtsd-detection.0b790414faca49768dca8ef0e99e5e83/artifacts/data_002/dataset.0b790414faca49768dca8ef0e99e5e83.mg6gkuim.zip , saved to /root/.clearml/cache/storage_manager/datasets/f82fae5e53831dc5c2d0b87244852376.dataset.0b790414faca49768dca8ef0e99e5e83.mg6gkuim.zip\n",
            "2023-11-27 19:30:27,770 - clearml - INFO - Dataset.get() did not specify alias. Dataset information will not be automatically logged in ClearML Server.\n"
          ]
        },
        {
          "output_type": "execute_result",
          "data": {
            "text/plain": [
              "<clearml.datasets.dataset.Dataset at 0x7badc836e470>"
            ]
          },
          "metadata": {},
          "execution_count": 6
        }
      ]
    },
    {
      "cell_type": "code",
      "source": [
        "imgsz = 640\n",
        "epochs = 40\n",
        "batch = 12  # 50\n",
        "patience = 20   # 30\n",
        "close_mosaic = int(epochs / 5)\n",
        "model_variant = \"yolov8m\"\n",
        "\n",
        "task.set_parameter(\"model_variant\", model_variant)\n",
        "args = dict(data='rtsd_detection/data.yaml',\n",
        "            epochs=epochs,\n",
        "            imgsz=imgsz,\n",
        "            batch=batch,\n",
        "            patience=patience,\n",
        "            close_mosaic=close_mosaic)\n",
        "\n",
        "\n",
        "task.connect(args)"
      ],
      "metadata": {
        "id": "5yh0hpJjglDi",
        "colab": {
          "base_uri": "https://localhost:8080/"
        },
        "outputId": "d4f38b8b-aa33-41fd-ab1e-1a01346ad2f5"
      },
      "execution_count": null,
      "outputs": [
        {
          "output_type": "execute_result",
          "data": {
            "text/plain": [
              "{'data': 'rtsd_detection/data.yaml',\n",
              " 'epochs': 50,\n",
              " 'imgsz': 640,\n",
              " 'batch': 12,\n",
              " 'patience': 20,\n",
              " 'close_mosaic': 10}"
            ]
          },
          "metadata": {},
          "execution_count": 7
        }
      ]
    },
    {
      "cell_type": "code",
      "source": [
        "# Train the model\n",
        "\n",
        "model = YOLO(f'{model_variant}.pt')\n",
        "results = model.train(**args)"
      ],
      "metadata": {
        "id": "IPzzVSrQkni7",
        "colab": {
          "base_uri": "https://localhost:8080/"
        },
        "outputId": "62582c13-4e6f-4ca7-ed24-793a390851d2"
      },
      "execution_count": null,
      "outputs": [
        {
          "metadata": {
            "tags": null
          },
          "name": "stdout",
          "output_type": "stream",
          "text": [
            "Downloading https://github.com/ultralytics/assets/releases/download/v0.0.0/yolov8m.pt to 'yolov8m.pt'...\n"
          ]
        },
        {
          "metadata": {
            "tags": null
          },
          "name": "stderr",
          "output_type": "stream",
          "text": [
            "100%|██████████| 49.7M/49.7M [00:00<00:00, 401MB/s]\n"
          ]
        },
        {
          "metadata": {
            "tags": null
          },
          "name": "stdout",
          "output_type": "stream",
          "text": [
            "Ultralytics YOLOv8.0.219 🚀 Python-3.10.12 torch-2.1.0+cu118 CUDA:0 (Tesla T4, 15102MiB)\n",
            "\u001b[34m\u001b[1mengine/trainer: \u001b[0mtask=detect, mode=train, model=yolov8m.pt, data=rtsd_detection/data.yaml, epochs=50, patience=20, batch=12, imgsz=640, save=True, save_period=-1, cache=False, device=None, workers=8, project=None, name=train, exist_ok=False, pretrained=True, optimizer=auto, verbose=True, seed=0, deterministic=True, single_cls=False, rect=False, cos_lr=False, close_mosaic=10, resume=False, amp=True, fraction=1.0, profile=False, freeze=None, overlap_mask=True, mask_ratio=4, dropout=0.0, val=True, split=val, save_json=False, save_hybrid=False, conf=None, iou=0.7, max_det=300, half=False, dnn=False, plots=True, source=None, vid_stride=1, stream_buffer=False, visualize=False, augment=False, agnostic_nms=False, classes=None, retina_masks=False, show=False, save_frames=False, save_txt=False, save_conf=False, save_crop=False, show_labels=True, show_conf=True, show_boxes=True, line_width=None, format=torchscript, keras=False, optimize=False, int8=False, dynamic=False, simplify=False, opset=None, workspace=4, nms=False, lr0=0.01, lrf=0.01, momentum=0.937, weight_decay=0.0005, warmup_epochs=3.0, warmup_momentum=0.8, warmup_bias_lr=0.1, box=7.5, cls=0.5, dfl=1.5, pose=12.0, kobj=1.0, label_smoothing=0.0, nbs=64, hsv_h=0.015, hsv_s=0.7, hsv_v=0.4, degrees=0.0, translate=0.1, scale=0.5, shear=0.0, perspective=0.0, flipud=0.0, fliplr=0.5, mosaic=1.0, mixup=0.0, copy_paste=0.0, cfg=None, tracker=botsort.yaml, save_dir=runs/detect/train\n",
            "Downloading https://ultralytics.com/assets/Arial.ttf to '/root/.config/Ultralytics/Arial.ttf'...\n"
          ]
        },
        {
          "metadata": {
            "tags": null
          },
          "name": "stderr",
          "output_type": "stream",
          "text": [
            "100%|██████████| 755k/755k [00:00<00:00, 120MB/s]"
          ]
        },
        {
          "metadata": {
            "tags": null
          },
          "name": "stdout",
          "output_type": "stream",
          "text": [
            "Overriding model.yaml nc=80 with nc=6\n",
            "\n",
            "                   from  n    params  module                                       arguments                     \n",
            "  0                  -1  1      1392  ultralytics.nn.modules.conv.Conv             [3, 48, 3, 2]                 \n",
            "  1                  -1  1     41664  ultralytics.nn.modules.conv.Conv             [48, 96, 3, 2]                \n",
            "  2                  -1  2    111360  ultralytics.nn.modules.block.C2f             [96, 96, 2, True]             \n",
            "  3                  -1  1    166272  ultralytics.nn.modules.conv.Conv             [96, 192, 3, 2]               \n",
            "  4                  -1  4    813312  ultralytics.nn.modules.block.C2f             [192, 192, 4, True]           \n",
            "  5                  -1  1    664320  ultralytics.nn.modules.conv.Conv             [192, 384, 3, 2]              \n",
            "  6                  -1  4   3248640  ultralytics.nn.modules.block.C2f             [384, 384, 4, True]           \n",
            "  7                  -1  1   1991808  ultralytics.nn.modules.conv.Conv             [384, 576, 3, 2]              \n",
            "  8                  -1  2   3985920  ultralytics.nn.modules.block.C2f             [576, 576, 2, True]           \n",
            "  9                  -1  1    831168  ultralytics.nn.modules.block.SPPF            [576, 576, 5]                 \n",
            " 10                  -1  1         0  torch.nn.modules.upsampling.Upsample         [None, 2, 'nearest']          \n",
            " 11             [-1, 6]  1         0  ultralytics.nn.modules.conv.Concat           [1]                           \n",
            " 12                  -1  2   1993728  ultralytics.nn.modules.block.C2f             [960, 384, 2]                 \n",
            " 13                  -1  1         0  torch.nn.modules.upsampling.Upsample         [None, 2, 'nearest']          \n",
            " 14             [-1, 4]  1         0  ultralytics.nn.modules.conv.Concat           [1]                           \n"
          ]
        },
        {
          "metadata": {
            "tags": null
          },
          "name": "stderr",
          "output_type": "stream",
          "text": [
            "\n"
          ]
        },
        {
          "metadata": {
            "tags": null
          },
          "name": "stdout",
          "output_type": "stream",
          "text": [
            " 15                  -1  2    517632  ultralytics.nn.modules.block.C2f             [576, 192, 2]                 \n",
            " 16                  -1  1    332160  ultralytics.nn.modules.conv.Conv             [192, 192, 3, 2]              \n",
            " 17            [-1, 12]  1         0  ultralytics.nn.modules.conv.Concat           [1]                           \n",
            " 18                  -1  2   1846272  ultralytics.nn.modules.block.C2f             [576, 384, 2]                 \n",
            " 19                  -1  1   1327872  ultralytics.nn.modules.conv.Conv             [384, 384, 3, 2]              \n",
            " 20             [-1, 9]  1         0  ultralytics.nn.modules.conv.Concat           [1]                           \n",
            " 21                  -1  2   4207104  ultralytics.nn.modules.block.C2f             [960, 576, 2]                 \n",
            " 22        [15, 18, 21]  1   3779170  ultralytics.nn.modules.head.Detect           [6, [192, 384, 576]]          \n",
            "Model summary: 295 layers, 25859794 parameters, 25859778 gradients, 79.1 GFLOPs\n",
            "\n",
            "Transferred 469/475 items from pretrained weights\n",
            "\u001b[34m\u001b[1mTensorBoard: \u001b[0mStart with 'tensorboard --logdir runs/detect/train', view at http://localhost:6006/\n",
            "Freezing layer 'model.22.dfl.conv.weight'\n",
            "\u001b[34m\u001b[1mAMP: \u001b[0mrunning Automatic Mixed Precision (AMP) checks with YOLOv8n...\n",
            "Downloading https://github.com/ultralytics/assets/releases/download/v0.0.0/yolov8n.pt to 'yolov8n.pt'...\n"
          ]
        },
        {
          "metadata": {
            "tags": null
          },
          "name": "stderr",
          "output_type": "stream",
          "text": [
            "100%|██████████| 6.23M/6.23M [00:00<00:00, 279MB/s]\n"
          ]
        },
        {
          "metadata": {
            "tags": null
          },
          "name": "stdout",
          "output_type": "stream",
          "text": [
            "\u001b[34m\u001b[1mAMP: \u001b[0mchecks passed ✅\n"
          ]
        },
        {
          "metadata": {
            "tags": null
          },
          "name": "stderr",
          "output_type": "stream",
          "text": [
            "\u001b[34m\u001b[1mtrain: \u001b[0mScanning /content/rtsd_detection/train/labels... 7591 images, 0 backgrounds, 0 corrupt: 100%|██████████| 7591/7591 [00:04<00:00, 1887.09it/s]\n"
          ]
        },
        {
          "metadata": {
            "tags": null
          },
          "name": "stdout",
          "output_type": "stream",
          "text": [
            "\u001b[34m\u001b[1mtrain: \u001b[0mNew cache created: /content/rtsd_detection/train/labels.cache\n",
            "\u001b[34m\u001b[1malbumentations: \u001b[0mBlur(p=0.01, blur_limit=(3, 7)), MedianBlur(p=0.01, blur_limit=(3, 7)), ToGray(p=0.01), CLAHE(p=0.01, clip_limit=(1, 4.0), tile_grid_size=(8, 8))\n"
          ]
        },
        {
          "metadata": {
            "tags": null
          },
          "name": "stderr",
          "output_type": "stream",
          "text": [
            "\u001b[34m\u001b[1mval: \u001b[0mScanning /content/rtsd_detection/test/labels... 2916 images, 0 backgrounds, 0 corrupt: 100%|██████████| 2916/2916 [00:02<00:00, 1133.18it/s]\n"
          ]
        },
        {
          "metadata": {
            "tags": null
          },
          "name": "stdout",
          "output_type": "stream",
          "text": [
            "\u001b[34m\u001b[1mval: \u001b[0mNew cache created: /content/rtsd_detection/test/labels.cache\n",
            "Plotting labels to runs/detect/train/labels.jpg... \n",
            "\u001b[34m\u001b[1moptimizer:\u001b[0m 'optimizer=auto' found, ignoring 'lr0=0.01' and 'momentum=0.937' and determining best 'optimizer', 'lr0' and 'momentum' automatically... \n",
            "\u001b[34m\u001b[1moptimizer:\u001b[0m AdamW(lr=0.001, momentum=0.9) with parameter groups 77 weight(decay=0.0), 84 weight(decay=0.00046875), 83 bias(decay=0.0)\n",
            "Image sizes 640 train, 640 val\n",
            "Using 2 dataloader workers\n",
            "Logging results to \u001b[1mruns/detect/train\u001b[0m\n",
            "Starting training for 50 epochs...\n",
            "\n",
            "      Epoch    GPU_mem   box_loss   cls_loss   dfl_loss  Instances       Size\n"
          ]
        },
        {
          "metadata": {
            "tags": null
          },
          "name": "stderr",
          "output_type": "stream",
          "text": [
            "       1/50      5.43G      1.465      2.172     0.8781         32        640: 100%|██████████| 633/633 [05:14<00:00,  2.01it/s]\n",
            "                 Class     Images  Instances      Box(P          R      mAP50  mAP50-95): 100%|██████████| 122/122 [00:51<00:00,  2.37it/s]"
          ]
        },
        {
          "metadata": {
            "tags": null
          },
          "name": "stdout",
          "output_type": "stream",
          "text": [
            "                   all       2916       4825      0.753      0.733      0.796      0.421\n"
          ]
        },
        {
          "metadata": {
            "tags": null
          },
          "name": "stderr",
          "output_type": "stream",
          "text": [
            "\n"
          ]
        },
        {
          "metadata": {
            "tags": null
          },
          "name": "stdout",
          "output_type": "stream",
          "text": [
            "\n",
            "      Epoch    GPU_mem   box_loss   cls_loss   dfl_loss  Instances       Size\n"
          ]
        },
        {
          "metadata": {
            "tags": null
          },
          "name": "stderr",
          "output_type": "stream",
          "text": [
            "       2/50      5.78G      1.468      1.049     0.8698         18        640: 100%|██████████| 633/633 [05:11<00:00,  2.03it/s]\n",
            "                 Class     Images  Instances      Box(P          R      mAP50  mAP50-95): 100%|██████████| 122/122 [00:49<00:00,  2.44it/s]\n"
          ]
        },
        {
          "metadata": {
            "tags": null
          },
          "name": "stdout",
          "output_type": "stream",
          "text": [
            "                   all       2916       4825      0.733      0.673       0.72      0.356\n",
            "\n",
            "      Epoch    GPU_mem   box_loss   cls_loss   dfl_loss  Instances       Size\n"
          ]
        },
        {
          "metadata": {
            "tags": null
          },
          "name": "stderr",
          "output_type": "stream",
          "text": [
            "       3/50      5.73G      1.445       1.02      0.869         27        640: 100%|██████████| 633/633 [05:03<00:00,  2.09it/s]\n",
            "                 Class     Images  Instances      Box(P          R      mAP50  mAP50-95): 100%|██████████| 122/122 [00:49<00:00,  2.45it/s]"
          ]
        },
        {
          "metadata": {
            "tags": null
          },
          "name": "stdout",
          "output_type": "stream",
          "text": [
            "                   all       2916       4825      0.799      0.796      0.847      0.466\n"
          ]
        },
        {
          "metadata": {
            "tags": null
          },
          "name": "stderr",
          "output_type": "stream",
          "text": [
            "\n"
          ]
        },
        {
          "metadata": {
            "tags": null
          },
          "name": "stdout",
          "output_type": "stream",
          "text": [
            "\n",
            "      Epoch    GPU_mem   box_loss   cls_loss   dfl_loss  Instances       Size\n"
          ]
        },
        {
          "metadata": {
            "tags": null
          },
          "name": "stderr",
          "output_type": "stream",
          "text": [
            "       4/50      5.74G      1.423     0.9855     0.8686         11        640: 100%|██████████| 633/633 [04:58<00:00,  2.12it/s]\n",
            "                 Class     Images  Instances      Box(P          R      mAP50  mAP50-95): 100%|██████████| 122/122 [00:49<00:00,  2.48it/s]"
          ]
        },
        {
          "metadata": {
            "tags": null
          },
          "name": "stdout",
          "output_type": "stream",
          "text": [
            "                   all       2916       4825      0.826      0.817       0.87      0.474\n"
          ]
        },
        {
          "metadata": {
            "tags": null
          },
          "name": "stderr",
          "output_type": "stream",
          "text": [
            "\n"
          ]
        },
        {
          "metadata": {
            "tags": null
          },
          "name": "stdout",
          "output_type": "stream",
          "text": [
            "\n",
            "      Epoch    GPU_mem   box_loss   cls_loss   dfl_loss  Instances       Size\n"
          ]
        },
        {
          "metadata": {
            "tags": null
          },
          "name": "stderr",
          "output_type": "stream",
          "text": [
            "       5/50      5.74G      1.399     0.9471     0.8645         27        640: 100%|██████████| 633/633 [05:00<00:00,  2.11it/s]\n",
            "                 Class     Images  Instances      Box(P          R      mAP50  mAP50-95): 100%|██████████| 122/122 [00:48<00:00,  2.51it/s]\n"
          ]
        },
        {
          "metadata": {
            "tags": null
          },
          "name": "stdout",
          "output_type": "stream",
          "text": [
            "                   all       2916       4825      0.805      0.836      0.874      0.503\n",
            "\n",
            "      Epoch    GPU_mem   box_loss   cls_loss   dfl_loss  Instances       Size\n"
          ]
        },
        {
          "metadata": {
            "tags": null
          },
          "name": "stderr",
          "output_type": "stream",
          "text": [
            "       6/50      5.77G      1.332       0.88      0.852         28        640: 100%|██████████| 633/633 [05:05<00:00,  2.07it/s]\n",
            "                 Class     Images  Instances      Box(P          R      mAP50  mAP50-95): 100%|██████████| 122/122 [00:52<00:00,  2.33it/s]\n"
          ]
        },
        {
          "metadata": {
            "tags": null
          },
          "name": "stdout",
          "output_type": "stream",
          "text": [
            "                   all       2916       4825      0.812      0.825      0.877      0.513\n",
            "\n",
            "      Epoch    GPU_mem   box_loss   cls_loss   dfl_loss  Instances       Size\n"
          ]
        },
        {
          "metadata": {
            "tags": null
          },
          "name": "stderr",
          "output_type": "stream",
          "text": [
            "       7/50      5.74G      1.318     0.8504     0.8529         24        640: 100%|██████████| 633/633 [05:10<00:00,  2.04it/s]\n",
            "                 Class     Images  Instances      Box(P          R      mAP50  mAP50-95): 100%|██████████| 122/122 [00:49<00:00,  2.44it/s]\n"
          ]
        },
        {
          "metadata": {
            "tags": null
          },
          "name": "stdout",
          "output_type": "stream",
          "text": [
            "                   all       2916       4825      0.833      0.853      0.889      0.508\n",
            "\n",
            "      Epoch    GPU_mem   box_loss   cls_loss   dfl_loss  Instances       Size\n"
          ]
        },
        {
          "metadata": {
            "tags": null
          },
          "name": "stderr",
          "output_type": "stream",
          "text": [
            "       8/50      5.74G      1.288     0.8325     0.8487         18        640: 100%|██████████| 633/633 [05:05<00:00,  2.07it/s]\n",
            "                 Class     Images  Instances      Box(P          R      mAP50  mAP50-95): 100%|██████████| 122/122 [00:52<00:00,  2.31it/s]\n"
          ]
        },
        {
          "metadata": {
            "tags": null
          },
          "name": "stdout",
          "output_type": "stream",
          "text": [
            "                   all       2916       4825      0.848      0.839      0.891      0.522\n",
            "\n",
            "      Epoch    GPU_mem   box_loss   cls_loss   dfl_loss  Instances       Size\n"
          ]
        },
        {
          "metadata": {
            "tags": null
          },
          "name": "stderr",
          "output_type": "stream",
          "text": [
            "       9/50      5.74G      1.279     0.8128      0.845          9        640: 100%|██████████| 633/633 [05:05<00:00,  2.07it/s]\n",
            "                 Class     Images  Instances      Box(P          R      mAP50  mAP50-95): 100%|██████████| 122/122 [00:51<00:00,  2.36it/s]"
          ]
        },
        {
          "metadata": {
            "tags": null
          },
          "name": "stdout",
          "output_type": "stream",
          "text": [
            "                   all       2916       4825      0.851       0.85      0.899       0.52\n"
          ]
        },
        {
          "metadata": {
            "tags": null
          },
          "name": "stderr",
          "output_type": "stream",
          "text": [
            "\n"
          ]
        },
        {
          "metadata": {
            "tags": null
          },
          "name": "stdout",
          "output_type": "stream",
          "text": [
            "\n",
            "      Epoch    GPU_mem   box_loss   cls_loss   dfl_loss  Instances       Size\n"
          ]
        },
        {
          "metadata": {
            "tags": null
          },
          "name": "stderr",
          "output_type": "stream",
          "text": [
            "      10/50      5.75G      1.265      0.805     0.8414         21        640: 100%|██████████| 633/633 [05:06<00:00,  2.07it/s]\n",
            "                 Class     Images  Instances      Box(P          R      mAP50  mAP50-95): 100%|██████████| 122/122 [00:51<00:00,  2.38it/s]\n"
          ]
        },
        {
          "metadata": {
            "tags": null
          },
          "name": "stdout",
          "output_type": "stream",
          "text": [
            "                   all       2916       4825      0.858      0.877       0.91      0.527\n",
            "\n",
            "      Epoch    GPU_mem   box_loss   cls_loss   dfl_loss  Instances       Size\n"
          ]
        },
        {
          "metadata": {
            "tags": null
          },
          "name": "stderr",
          "output_type": "stream",
          "text": [
            "      11/50      5.74G      1.245     0.7754     0.8396         29        640: 100%|██████████| 633/633 [05:11<00:00,  2.03it/s]\n",
            "                 Class     Images  Instances      Box(P          R      mAP50  mAP50-95): 100%|██████████| 122/122 [00:50<00:00,  2.40it/s]"
          ]
        },
        {
          "metadata": {
            "tags": null
          },
          "name": "stdout",
          "output_type": "stream",
          "text": [
            "                   all       2916       4825      0.861      0.867      0.907       0.54\n"
          ]
        },
        {
          "metadata": {
            "tags": null
          },
          "name": "stderr",
          "output_type": "stream",
          "text": [
            "\n"
          ]
        },
        {
          "metadata": {
            "tags": null
          },
          "name": "stdout",
          "output_type": "stream",
          "text": [
            "\n",
            "      Epoch    GPU_mem   box_loss   cls_loss   dfl_loss  Instances       Size\n"
          ]
        },
        {
          "output_type": "stream",
          "name": "stderr",
          "text": [
            "      12/50      5.76G      1.238     0.7589     0.8412         21        640: 100%|██████████| 633/633 [05:02<00:00,  2.09it/s]\n",
            "                 Class     Images  Instances      Box(P          R      mAP50  mAP50-95): 100%|██████████| 122/122 [00:47<00:00,  2.57it/s]"
          ]
        },
        {
          "output_type": "stream",
          "name": "stdout",
          "text": [
            "                   all       2916       4825      0.834      0.863      0.901      0.552\n"
          ]
        },
        {
          "output_type": "stream",
          "name": "stderr",
          "text": [
            "\n"
          ]
        },
        {
          "output_type": "stream",
          "name": "stdout",
          "text": [
            "\n",
            "      Epoch    GPU_mem   box_loss   cls_loss   dfl_loss  Instances       Size\n"
          ]
        },
        {
          "output_type": "stream",
          "name": "stderr",
          "text": [
            "      13/50      5.72G      1.224     0.7534      0.838         12        640: 100%|██████████| 633/633 [04:54<00:00,  2.15it/s]\n",
            "                 Class     Images  Instances      Box(P          R      mAP50  mAP50-95): 100%|██████████| 122/122 [00:49<00:00,  2.45it/s]"
          ]
        },
        {
          "output_type": "stream",
          "name": "stdout",
          "text": [
            "                   all       2916       4825      0.849      0.871       0.91      0.548\n"
          ]
        },
        {
          "output_type": "stream",
          "name": "stderr",
          "text": [
            "\n"
          ]
        },
        {
          "output_type": "stream",
          "name": "stdout",
          "text": [
            "\n",
            "      Epoch    GPU_mem   box_loss   cls_loss   dfl_loss  Instances       Size\n"
          ]
        },
        {
          "output_type": "stream",
          "name": "stderr",
          "text": [
            "      14/50      5.74G      1.207      0.729     0.8357         16        640: 100%|██████████| 633/633 [04:57<00:00,  2.13it/s]\n",
            "                 Class     Images  Instances      Box(P          R      mAP50  mAP50-95): 100%|██████████| 122/122 [00:49<00:00,  2.45it/s]"
          ]
        },
        {
          "output_type": "stream",
          "name": "stdout",
          "text": [
            "                   all       2916       4825      0.855      0.877       0.91      0.558\n"
          ]
        },
        {
          "output_type": "stream",
          "name": "stderr",
          "text": [
            "\n"
          ]
        },
        {
          "output_type": "stream",
          "name": "stdout",
          "text": [
            "\n",
            "      Epoch    GPU_mem   box_loss   cls_loss   dfl_loss  Instances       Size\n"
          ]
        },
        {
          "output_type": "stream",
          "name": "stderr",
          "text": [
            "      15/50      5.75G      1.192     0.7233     0.8369         21        640: 100%|██████████| 633/633 [04:55<00:00,  2.14it/s]\n",
            "                 Class     Images  Instances      Box(P          R      mAP50  mAP50-95): 100%|██████████| 122/122 [00:48<00:00,  2.54it/s]"
          ]
        },
        {
          "output_type": "stream",
          "name": "stdout",
          "text": [
            "                   all       2916       4825      0.852      0.877      0.913      0.542\n"
          ]
        },
        {
          "output_type": "stream",
          "name": "stderr",
          "text": [
            "\n"
          ]
        },
        {
          "output_type": "stream",
          "name": "stdout",
          "text": [
            "\n",
            "      Epoch    GPU_mem   box_loss   cls_loss   dfl_loss  Instances       Size\n"
          ]
        },
        {
          "output_type": "stream",
          "name": "stderr",
          "text": [
            "      16/50      5.74G      1.178     0.7155     0.8315         22        640: 100%|██████████| 633/633 [04:55<00:00,  2.14it/s]\n",
            "                 Class     Images  Instances      Box(P          R      mAP50  mAP50-95): 100%|██████████| 122/122 [00:48<00:00,  2.53it/s]\n"
          ]
        },
        {
          "output_type": "stream",
          "name": "stdout",
          "text": [
            "                   all       2916       4825      0.851      0.869      0.907      0.555\n",
            "\n",
            "      Epoch    GPU_mem   box_loss   cls_loss   dfl_loss  Instances       Size\n"
          ]
        },
        {
          "output_type": "stream",
          "name": "stderr",
          "text": [
            "      17/50      5.74G      1.172     0.6997     0.8343         18        640: 100%|██████████| 633/633 [04:54<00:00,  2.15it/s]\n",
            "                 Class     Images  Instances      Box(P          R      mAP50  mAP50-95): 100%|██████████| 122/122 [00:48<00:00,  2.51it/s]\n"
          ]
        },
        {
          "output_type": "stream",
          "name": "stdout",
          "text": [
            "                   all       2916       4825      0.874      0.872      0.924      0.555\n",
            "\n",
            "      Epoch    GPU_mem   box_loss   cls_loss   dfl_loss  Instances       Size\n"
          ]
        },
        {
          "output_type": "stream",
          "name": "stderr",
          "text": [
            "      18/50      5.77G      1.159     0.6884     0.8324         22        640: 100%|██████████| 633/633 [05:02<00:00,  2.09it/s]\n",
            "                 Class     Images  Instances      Box(P          R      mAP50  mAP50-95): 100%|██████████| 122/122 [00:51<00:00,  2.38it/s]"
          ]
        },
        {
          "output_type": "stream",
          "name": "stdout",
          "text": [
            "                   all       2916       4825       0.86      0.873      0.909      0.554\n"
          ]
        },
        {
          "output_type": "stream",
          "name": "stderr",
          "text": [
            "\n"
          ]
        },
        {
          "output_type": "stream",
          "name": "stdout",
          "text": [
            "\n",
            "      Epoch    GPU_mem   box_loss   cls_loss   dfl_loss  Instances       Size\n"
          ]
        },
        {
          "output_type": "stream",
          "name": "stderr",
          "text": [
            "      19/50      5.74G      1.148     0.6805     0.8335         23        640: 100%|██████████| 633/633 [05:01<00:00,  2.10it/s]\n",
            "                 Class     Images  Instances      Box(P          R      mAP50  mAP50-95): 100%|██████████| 122/122 [00:49<00:00,  2.46it/s]"
          ]
        },
        {
          "output_type": "stream",
          "name": "stdout",
          "text": [
            "                   all       2916       4825      0.858      0.883      0.922      0.559\n"
          ]
        },
        {
          "output_type": "stream",
          "name": "stderr",
          "text": [
            "\n"
          ]
        },
        {
          "output_type": "stream",
          "name": "stdout",
          "text": [
            "\n",
            "      Epoch    GPU_mem   box_loss   cls_loss   dfl_loss  Instances       Size\n"
          ]
        },
        {
          "output_type": "stream",
          "name": "stderr",
          "text": [
            "      20/50      5.76G      1.144     0.6685     0.8299         36        640: 100%|██████████| 633/633 [04:55<00:00,  2.15it/s]\n",
            "                 Class     Images  Instances      Box(P          R      mAP50  mAP50-95): 100%|██████████| 122/122 [00:48<00:00,  2.50it/s]"
          ]
        },
        {
          "output_type": "stream",
          "name": "stdout",
          "text": [
            "                   all       2916       4825      0.874      0.873      0.922      0.571\n"
          ]
        },
        {
          "output_type": "stream",
          "name": "stderr",
          "text": [
            "\n"
          ]
        },
        {
          "output_type": "stream",
          "name": "stdout",
          "text": [
            "\n",
            "      Epoch    GPU_mem   box_loss   cls_loss   dfl_loss  Instances       Size\n"
          ]
        },
        {
          "output_type": "stream",
          "name": "stderr",
          "text": [
            "      21/50      5.74G      1.129     0.6628     0.8276         30        640: 100%|██████████| 633/633 [04:52<00:00,  2.17it/s]\n",
            "                 Class     Images  Instances      Box(P          R      mAP50  mAP50-95): 100%|██████████| 122/122 [00:47<00:00,  2.58it/s]"
          ]
        },
        {
          "output_type": "stream",
          "name": "stdout",
          "text": [
            "                   all       2916       4825      0.853      0.892      0.917      0.579\n"
          ]
        },
        {
          "output_type": "stream",
          "name": "stderr",
          "text": [
            "\n"
          ]
        },
        {
          "output_type": "stream",
          "name": "stdout",
          "text": [
            "\n",
            "      Epoch    GPU_mem   box_loss   cls_loss   dfl_loss  Instances       Size\n"
          ]
        },
        {
          "output_type": "stream",
          "name": "stderr",
          "text": [
            "      22/50      5.74G      1.126     0.6595     0.8294         19        640: 100%|██████████| 633/633 [04:54<00:00,  2.15it/s]\n",
            "                 Class     Images  Instances      Box(P          R      mAP50  mAP50-95): 100%|██████████| 122/122 [00:49<00:00,  2.46it/s]\n"
          ]
        },
        {
          "output_type": "stream",
          "name": "stdout",
          "text": [
            "                   all       2916       4825      0.855      0.884      0.917      0.556\n",
            "\n",
            "      Epoch    GPU_mem   box_loss   cls_loss   dfl_loss  Instances       Size\n"
          ]
        },
        {
          "output_type": "stream",
          "name": "stderr",
          "text": [
            "      23/50      5.77G      1.124     0.6594     0.8265         36        640: 100%|██████████| 633/633 [04:54<00:00,  2.15it/s]\n",
            "                 Class     Images  Instances      Box(P          R      mAP50  mAP50-95): 100%|██████████| 122/122 [00:48<00:00,  2.52it/s]\n"
          ]
        },
        {
          "output_type": "stream",
          "name": "stdout",
          "text": [
            "                   all       2916       4825      0.859       0.89      0.922       0.57\n",
            "\n",
            "      Epoch    GPU_mem   box_loss   cls_loss   dfl_loss  Instances       Size\n"
          ]
        },
        {
          "output_type": "stream",
          "name": "stderr",
          "text": [
            "      24/50      5.74G      1.116     0.6452     0.8267         14        640: 100%|██████████| 633/633 [04:53<00:00,  2.16it/s]\n",
            "                 Class     Images  Instances      Box(P          R      mAP50  mAP50-95): 100%|██████████| 122/122 [00:47<00:00,  2.59it/s]"
          ]
        },
        {
          "output_type": "stream",
          "name": "stdout",
          "text": [
            "                   all       2916       4825      0.865      0.873      0.922      0.562\n"
          ]
        },
        {
          "output_type": "stream",
          "name": "stderr",
          "text": [
            "\n"
          ]
        },
        {
          "output_type": "stream",
          "name": "stdout",
          "text": [
            "\n",
            "      Epoch    GPU_mem   box_loss   cls_loss   dfl_loss  Instances       Size\n"
          ]
        },
        {
          "output_type": "stream",
          "name": "stderr",
          "text": [
            "      25/50      5.75G      1.107     0.6385     0.8243         21        640: 100%|██████████| 633/633 [04:49<00:00,  2.19it/s]\n",
            "                 Class     Images  Instances      Box(P          R      mAP50  mAP50-95): 100%|██████████| 122/122 [00:49<00:00,  2.47it/s]\n"
          ]
        },
        {
          "output_type": "stream",
          "name": "stdout",
          "text": [
            "                   all       2916       4825      0.862      0.891      0.927      0.584\n",
            "\n",
            "      Epoch    GPU_mem   box_loss   cls_loss   dfl_loss  Instances       Size\n"
          ]
        },
        {
          "output_type": "stream",
          "name": "stderr",
          "text": [
            "      26/50      5.78G      1.102     0.6283     0.8275         23        640: 100%|██████████| 633/633 [04:51<00:00,  2.17it/s]\n",
            "                 Class     Images  Instances      Box(P          R      mAP50  mAP50-95): 100%|██████████| 122/122 [00:47<00:00,  2.57it/s]\n"
          ]
        },
        {
          "output_type": "stream",
          "name": "stdout",
          "text": [
            "                   all       2916       4825      0.858      0.894      0.927       0.58\n",
            "\n",
            "      Epoch    GPU_mem   box_loss   cls_loss   dfl_loss  Instances       Size\n"
          ]
        },
        {
          "output_type": "stream",
          "name": "stderr",
          "text": [
            "      27/50      5.75G      1.091     0.6289     0.8225         31        640: 100%|██████████| 633/633 [04:51<00:00,  2.17it/s]\n",
            "                 Class     Images  Instances      Box(P          R      mAP50  mAP50-95): 100%|██████████| 122/122 [00:47<00:00,  2.54it/s]"
          ]
        },
        {
          "output_type": "stream",
          "name": "stdout",
          "text": [
            "                   all       2916       4825       0.87      0.884      0.927      0.579\n"
          ]
        },
        {
          "output_type": "stream",
          "name": "stderr",
          "text": [
            "\n"
          ]
        },
        {
          "output_type": "stream",
          "name": "stdout",
          "text": [
            "\n",
            "      Epoch    GPU_mem   box_loss   cls_loss   dfl_loss  Instances       Size\n"
          ]
        },
        {
          "output_type": "stream",
          "name": "stderr",
          "text": [
            "      28/50      5.77G       1.09     0.6171     0.8242         30        640: 100%|██████████| 633/633 [04:51<00:00,  2.17it/s]\n",
            "                 Class     Images  Instances      Box(P          R      mAP50  mAP50-95): 100%|██████████| 122/122 [00:47<00:00,  2.58it/s]"
          ]
        },
        {
          "output_type": "stream",
          "name": "stdout",
          "text": [
            "                   all       2916       4825      0.867      0.886      0.926      0.579\n"
          ]
        },
        {
          "output_type": "stream",
          "name": "stderr",
          "text": [
            "\n"
          ]
        },
        {
          "output_type": "stream",
          "name": "stdout",
          "text": [
            "\n",
            "      Epoch    GPU_mem   box_loss   cls_loss   dfl_loss  Instances       Size\n"
          ]
        },
        {
          "output_type": "stream",
          "name": "stderr",
          "text": [
            "      29/50      5.74G      1.082     0.6136     0.8224         20        640: 100%|██████████| 633/633 [04:49<00:00,  2.19it/s]\n",
            "                 Class     Images  Instances      Box(P          R      mAP50  mAP50-95): 100%|██████████| 122/122 [00:47<00:00,  2.59it/s]\n"
          ]
        },
        {
          "output_type": "stream",
          "name": "stdout",
          "text": [
            "                   all       2916       4825      0.865      0.895      0.926      0.586\n",
            "\n",
            "      Epoch    GPU_mem   box_loss   cls_loss   dfl_loss  Instances       Size\n"
          ]
        },
        {
          "output_type": "stream",
          "name": "stderr",
          "text": [
            "      30/50      5.76G       1.08     0.6057     0.8246         21        640: 100%|██████████| 633/633 [04:51<00:00,  2.17it/s]\n",
            "                 Class     Images  Instances      Box(P          R      mAP50  mAP50-95): 100%|██████████| 122/122 [00:47<00:00,  2.55it/s]"
          ]
        },
        {
          "output_type": "stream",
          "name": "stdout",
          "text": [
            "                   all       2916       4825      0.858      0.894      0.924      0.569\n"
          ]
        },
        {
          "output_type": "stream",
          "name": "stderr",
          "text": [
            "\n"
          ]
        },
        {
          "output_type": "stream",
          "name": "stdout",
          "text": [
            "\n",
            "      Epoch    GPU_mem   box_loss   cls_loss   dfl_loss  Instances       Size\n"
          ]
        },
        {
          "output_type": "stream",
          "name": "stderr",
          "text": [
            "      31/50      5.77G      1.071     0.6012     0.8197         23        640: 100%|██████████| 633/633 [04:51<00:00,  2.17it/s]\n",
            "                 Class     Images  Instances      Box(P          R      mAP50  mAP50-95): 100%|██████████| 122/122 [00:46<00:00,  2.62it/s]\n"
          ]
        },
        {
          "output_type": "stream",
          "name": "stdout",
          "text": [
            "                   all       2916       4825      0.869      0.893       0.93      0.593\n",
            "\n",
            "      Epoch    GPU_mem   box_loss   cls_loss   dfl_loss  Instances       Size\n"
          ]
        },
        {
          "output_type": "stream",
          "name": "stderr",
          "text": [
            "      32/50      5.79G      1.065     0.5977     0.8203         13        640: 100%|██████████| 633/633 [04:47<00:00,  2.20it/s]\n",
            "                 Class     Images  Instances      Box(P          R      mAP50  mAP50-95): 100%|██████████| 122/122 [00:46<00:00,  2.62it/s]"
          ]
        },
        {
          "output_type": "stream",
          "name": "stdout",
          "text": [
            "                   all       2916       4825      0.868      0.898      0.927      0.578\n"
          ]
        },
        {
          "output_type": "stream",
          "name": "stderr",
          "text": [
            "\n"
          ]
        },
        {
          "output_type": "stream",
          "name": "stdout",
          "text": [
            "\n",
            "      Epoch    GPU_mem   box_loss   cls_loss   dfl_loss  Instances       Size\n"
          ]
        },
        {
          "output_type": "stream",
          "name": "stderr",
          "text": [
            "      33/50      5.78G      1.056     0.5929     0.8199         21        640: 100%|██████████| 633/633 [04:45<00:00,  2.22it/s]\n",
            "                 Class     Images  Instances      Box(P          R      mAP50  mAP50-95): 100%|██████████| 122/122 [00:47<00:00,  2.59it/s]"
          ]
        },
        {
          "output_type": "stream",
          "name": "stdout",
          "text": [
            "                   all       2916       4825      0.869        0.9      0.929      0.579\n"
          ]
        },
        {
          "output_type": "stream",
          "name": "stderr",
          "text": [
            "\n"
          ]
        },
        {
          "output_type": "stream",
          "name": "stdout",
          "text": [
            "\n",
            "      Epoch    GPU_mem   box_loss   cls_loss   dfl_loss  Instances       Size\n"
          ]
        },
        {
          "output_type": "stream",
          "name": "stderr",
          "text": [
            "      34/50      5.73G      1.045      0.584     0.8174         17        640: 100%|██████████| 633/633 [04:44<00:00,  2.23it/s]\n",
            "                 Class     Images  Instances      Box(P          R      mAP50  mAP50-95): 100%|██████████| 122/122 [00:47<00:00,  2.57it/s]"
          ]
        },
        {
          "output_type": "stream",
          "name": "stdout",
          "text": [
            "                   all       2916       4825      0.866        0.9       0.93      0.583\n"
          ]
        },
        {
          "output_type": "stream",
          "name": "stderr",
          "text": [
            "\n"
          ]
        },
        {
          "output_type": "stream",
          "name": "stdout",
          "text": [
            "\n",
            "      Epoch    GPU_mem   box_loss   cls_loss   dfl_loss  Instances       Size\n"
          ]
        },
        {
          "output_type": "stream",
          "name": "stderr",
          "text": [
            "      35/50      5.78G      1.044     0.5747     0.8181         35        640: 100%|██████████| 633/633 [04:44<00:00,  2.22it/s]\n",
            "                 Class     Images  Instances      Box(P          R      mAP50  mAP50-95): 100%|██████████| 122/122 [00:47<00:00,  2.59it/s]"
          ]
        },
        {
          "output_type": "stream",
          "name": "stdout",
          "text": [
            "                   all       2916       4825       0.87      0.903      0.933      0.582\n"
          ]
        },
        {
          "output_type": "stream",
          "name": "stderr",
          "text": [
            "\n"
          ]
        },
        {
          "output_type": "stream",
          "name": "stdout",
          "text": [
            "\n",
            "      Epoch    GPU_mem   box_loss   cls_loss   dfl_loss  Instances       Size\n"
          ]
        },
        {
          "output_type": "stream",
          "name": "stderr",
          "text": [
            "      36/50      5.75G      1.038     0.5755     0.8182         12        640: 100%|██████████| 633/633 [04:44<00:00,  2.23it/s]\n",
            "                 Class     Images  Instances      Box(P          R      mAP50  mAP50-95): 100%|██████████| 122/122 [00:46<00:00,  2.60it/s]"
          ]
        },
        {
          "output_type": "stream",
          "name": "stdout",
          "text": [
            "                   all       2916       4825      0.871      0.899      0.935      0.582\n"
          ]
        },
        {
          "output_type": "stream",
          "name": "stderr",
          "text": [
            "\n"
          ]
        },
        {
          "output_type": "stream",
          "name": "stdout",
          "text": [
            "\n",
            "      Epoch    GPU_mem   box_loss   cls_loss   dfl_loss  Instances       Size\n"
          ]
        },
        {
          "output_type": "stream",
          "name": "stderr",
          "text": [
            "      37/50      5.75G      1.028     0.5581     0.8174         26        640: 100%|██████████| 633/633 [04:48<00:00,  2.19it/s]\n",
            "                 Class     Images  Instances      Box(P          R      mAP50  mAP50-95): 100%|██████████| 122/122 [00:46<00:00,  2.63it/s]\n"
          ]
        },
        {
          "output_type": "stream",
          "name": "stdout",
          "text": [
            "                   all       2916       4825      0.865      0.898      0.931      0.586\n",
            "\n",
            "      Epoch    GPU_mem   box_loss   cls_loss   dfl_loss  Instances       Size\n"
          ]
        },
        {
          "output_type": "stream",
          "name": "stderr",
          "text": [
            "      38/50      5.74G      1.029     0.5542     0.8146         30        640: 100%|██████████| 633/633 [04:48<00:00,  2.19it/s]\n",
            "                 Class     Images  Instances      Box(P          R      mAP50  mAP50-95): 100%|██████████| 122/122 [00:48<00:00,  2.52it/s]"
          ]
        },
        {
          "output_type": "stream",
          "name": "stdout",
          "text": [
            "                   all       2916       4825      0.876      0.901      0.936      0.585\n"
          ]
        },
        {
          "output_type": "stream",
          "name": "stderr",
          "text": [
            "\n"
          ]
        },
        {
          "output_type": "stream",
          "name": "stdout",
          "text": [
            "\n",
            "      Epoch    GPU_mem   box_loss   cls_loss   dfl_loss  Instances       Size\n"
          ]
        },
        {
          "output_type": "stream",
          "name": "stderr",
          "text": [
            "      39/50      5.73G      1.023     0.5604     0.8187         26        640: 100%|██████████| 633/633 [04:49<00:00,  2.19it/s]\n",
            "                 Class     Images  Instances      Box(P          R      mAP50  mAP50-95): 100%|██████████| 122/122 [00:47<00:00,  2.57it/s]"
          ]
        },
        {
          "output_type": "stream",
          "name": "stdout",
          "text": [
            "                   all       2916       4825      0.871      0.902      0.932      0.585\n"
          ]
        },
        {
          "output_type": "stream",
          "name": "stderr",
          "text": [
            "\n"
          ]
        },
        {
          "output_type": "stream",
          "name": "stdout",
          "text": [
            "\n",
            "      Epoch    GPU_mem   box_loss   cls_loss   dfl_loss  Instances       Size\n"
          ]
        },
        {
          "output_type": "stream",
          "name": "stderr",
          "text": [
            "      40/50      5.74G      1.013     0.5519     0.8088         34        640:  24%|██▎       | 149/633 [01:08<04:31,  1.78it/s]"
          ]
        }
      ]
    },
    {
      "cell_type": "code",
      "source": [
        "task.close()"
      ],
      "metadata": {
        "id": "cm2iddxlfGtz"
      },
      "execution_count": null,
      "outputs": []
    }
  ]
}