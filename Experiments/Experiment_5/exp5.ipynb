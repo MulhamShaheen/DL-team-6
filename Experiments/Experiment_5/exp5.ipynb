{
  "cells": [
    {
      "cell_type": "code",
      "execution_count": null,
      "metadata": {
        "id": "97YL6zvdfecX"
      },
      "outputs": [],
      "source": [
        "!pip install -q clearml ultralytics\n",
        "!pip install -q git+https://github.com/allegroai/clearml\n",
        "!pip install -q clearml-agent"
      ]
    },
    {
      "cell_type": "code",
      "execution_count": null,
      "metadata": {
        "id": "Nr4mdMzVbIuc"
      },
      "outputs": [],
      "source": [
        "!export MPLBACKEND=TkAg"
      ]
    },
    {
      "cell_type": "code",
      "execution_count": null,
      "metadata": {
        "id": "jiCyT5X5gizI"
      },
      "outputs": [],
      "source": [
        "!clearml-init"
      ]
    },
    {
      "cell_type": "code",
      "execution_count": null,
      "metadata": {
        "id": "rBZkGcPLglBj"
      },
      "outputs": [],
      "source": [
        "from ultralytics import YOLO\n",
        "from clearml import Dataset, Task"
      ]
    },
    {
      "cell_type": "code",
      "execution_count": null,
      "metadata": {
        "id": "AJ5Tr32cZzvr"
      },
      "outputs": [],
      "source": [
        "task = Task.init(project_name=\"DL Team 6\", task_name=\"YOLOv7_training0.1\")"
      ]
    },
    {
      "cell_type": "code",
      "execution_count": null,
      "metadata": {
        "id": "JOFpc16NpPHQ",
        "scrolled": true
      },
      "outputs": [],
      "source": [
        "DATASET_ID = \"0b790414faca49768dca8ef0e99e5e83\"\n",
        "dataset = Dataset.get(dataset_id=DATASET_ID)\n",
        "dataset.get_mutable_local_copy(target_folder='rtsd_detection')\n",
        "\n",
        "dataset"
      ]
    },
    {
      "cell_type": "code",
      "execution_count": null,
      "metadata": {
        "id": "5yh0hpJjglDi"
      },
      "outputs": [],
      "source": [
        "imgsz = 640\n",
        "epochs = 500\n",
        "batch = 40\n",
        "patience = 30\n",
        "close_mosaic = int(epochs / 5)\n",
        "model_variant = \"yolov5s\"\n",
        "#workers = 4\n",
        "task.set_parameter(\"model_variant\", model_variant)\n",
        "args = dict(data='rtsd_detection/data.yaml',\n",
        "            epochs=epochs,\n",
        "            imgsz=imgsz,\n",
        "            batch=batch,\n",
        "            patience=patience,\n",
        "            #workers = workers,\n",
        "            close_mosaic=close_mosaic)\n",
        "\n",
        "\n",
        "task.connect(args)"
      ]
    },
    {
      "cell_type": "code",
      "execution_count": null,
      "metadata": {
        "id": "IPzzVSrQkni7"
      },
      "outputs": [],
      "source": [
        "# Train the model\n",
        "\n",
        "model = YOLO(f'{model_variant}.pt')\n",
        "results = model.train(**args)"
      ]
    },
    {
      "cell_type": "code",
      "execution_count": null,
      "metadata": {
        "id": "cm2iddxlfGtz"
      },
      "outputs": [],
      "source": [
        "task.close()"
      ]
    },
    {
      "cell_type": "code",
      "execution_count": null,
      "metadata": {
        "id": "nrzjychcVsr9"
      },
      "outputs": [],
      "source": []
    }
  ],
  "metadata": {
    "accelerator": "GPU",
    "colab": {
      "gpuType": "T4",
      "provenance": []
    },
    "kernelspec": {
      "display_name": "Pytorch GPU (Python 3.10)",
      "language": "python",
      "name": "env-cuda"
    },
    "language_info": {
      "codemirror_mode": {
        "name": "ipython",
        "version": 3
      },
      "file_extension": ".py",
      "mimetype": "text/x-python",
      "name": "python",
      "nbconvert_exporter": "python",
      "pygments_lexer": "ipython3",
      "version": "3.10.9"
    }
  },
  "nbformat": 4,
  "nbformat_minor": 0
}