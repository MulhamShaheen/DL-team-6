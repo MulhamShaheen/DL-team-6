{
  "nbformat": 4,
  "nbformat_minor": 0,
  "metadata": {
    "colab": {
      "provenance": [],
      "gpuType": "T4",
      "authorship_tag": "ABX9TyMhjdX79+FXd/DRXOtK0Fj7"
    },
    "kernelspec": {
      "name": "python3",
      "display_name": "Python 3"
    },
    "language_info": {
      "name": "python"
    },
    "accelerator": "GPU"
  },
  "cells": [
    {
      "cell_type": "code",
      "execution_count": null,
      "metadata": {
        "id": "97YL6zvdfecX"
      },
      "outputs": [],
      "source": [
        "!pip install -q clearml ultralytics"
      ]
    },
    {
      "cell_type": "code",
      "source": [
        "!clearml-init"
      ],
      "metadata": {
        "id": "jiCyT5X5gizI"
      },
      "execution_count": null,
      "outputs": []
    },
    {
      "cell_type": "code",
      "source": [
        "from ultralytics import YOLO\n",
        "from clearml import Task\n",
        "from clearml import Dataset\n",
        "\n",
        "task = Task.init(project_name=\"DL Team 6\", task_name=\"etaychinov_YOLOv8s_training_base\")"
      ],
      "metadata": {
        "id": "rBZkGcPLglBj"
      },
      "execution_count": null,
      "outputs": []
    },
    {
      "cell_type": "code",
      "source": [
        "DATASET_ID = \"83fcc083b98c4d45af85801a199bf244\"\n",
        "dataset = Dataset.get(dataset_id=DATASET_ID)\n",
        "dataset.get_mutable_local_copy(target_folder='Dataset_for_YOLO_True')\n",
        "\n",
        "dataset"
      ],
      "metadata": {
        "id": "JOFpc16NpPHQ"
      },
      "execution_count": null,
      "outputs": []
    },
    {
      "cell_type": "code",
      "source": [
        "imgsz = 680\n",
        "epochs = 50\n",
        "batch = 12\n",
        "patience = 10\n",
        "close_mosaic = int(epochs / 5)\n",
        "model_variant = \"yolov8s\"\n",
        "\n",
        "task.set_parameter(\"model_variant\", model_variant)\n",
        "args = dict(data='Dataset_for_YOLO/data.yaml',\n",
        "            epochs=epochs,\n",
        "            imgsz=imgsz,\n",
        "            batch=batch,\n",
        "            patience=patience,\n",
        "            close_mosaic=close_mosaic)\n",
        "\n",
        "model = YOLO(f'{model_variant}.pt')\n",
        "task.connect(args)"
      ],
      "metadata": {
        "id": "5yh0hpJjglDi"
      },
      "execution_count": null,
      "outputs": []
    },
    {
      "cell_type": "code",
      "source": [
        "# Train the model\n",
        "# If running remotely, the arguments may be overridden by ClearML if they were changed in the UI\n",
        "results = model.train(**args)"
      ],
      "metadata": {
        "id": "IPzzVSrQkni7"
      },
      "execution_count": null,
      "outputs": []
    },
    {
      "cell_type": "code",
      "source": [
        "!rm -rf datasets/\n",
        "!rm -rf Dataset_for_YOLO*"
      ],
      "metadata": {
        "id": "ii50ELVnqrkA"
      },
      "execution_count": null,
      "outputs": []
    },
    {
      "cell_type": "code",
      "source": [],
      "metadata": {
        "id": "5iwEmTD7glFk"
      },
      "execution_count": null,
      "outputs": []
    },
    {
      "cell_type": "code",
      "source": [],
      "metadata": {
        "id": "988owZlXgi3c"
      },
      "execution_count": null,
      "outputs": []
    }
  ]
}